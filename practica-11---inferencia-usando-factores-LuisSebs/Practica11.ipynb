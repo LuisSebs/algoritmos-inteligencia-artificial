{
  "nbformat": 4,
  "nbformat_minor": 0,
  "metadata": {
    "colab": {
      "provenance": []
    },
    "kernelspec": {
      "name": "python3",
      "display_name": "Python 3"
    },
    "language_info": {
      "name": "python"
    }
  },
  "cells": [
    {
      "cell_type": "markdown",
      "source": [
        "# Práctica 11: Inferencias en Redes de Bayes usando factores\n",
        "### Autor:  Arrieta Mancera Luis Sebastian"
      ],
      "metadata": {
        "id": "2y9ShFYnp8GR"
      }
    },
    {
      "cell_type": "markdown",
      "source": [
        "### Factor.py"
      ],
      "metadata": {
        "id": "1QFFVdZsqU9g"
      }
    },
    {
      "cell_type": "code",
      "source": [
        "from itertools import product\n",
        "\n",
        "class Variable:\n",
        "\n",
        "    \"\"\"\n",
        "        Variable Aleatoria\n",
        "    \"\"\"\n",
        "\n",
        "    def __init__(self, nombre, valores_posibles) -> None:\n",
        "        self.nombre = nombre\n",
        "        self.valores_posibles = valores_posibles\n",
        "\n",
        "    def __str__(self) -> str:\n",
        "        return \"Nombre: {} | Valores: {}\".format(self.nombre, self.valores_posibles)\n",
        "\n",
        "class Factor:\n",
        "\n",
        "    \"\"\"\n",
        "        Factor\n",
        "    \"\"\"\n",
        "\n",
        "    def __init__(self, alcance, valores) -> None:\n",
        "        self.alcance = alcance\n",
        "        self.valores = valores\n",
        "        self.tabla = None\n",
        "\n",
        "    def _generar_tabla_de_valores(self):\n",
        "\n",
        "        \"\"\"\n",
        "            Genera la la tabla de valores del factor\n",
        "        \"\"\"\n",
        "\n",
        "        # Variables aleatorias del factor\n",
        "        variables = [var.valores_posibles for var in self.alcance]\n",
        "        # Permutaciones\n",
        "        combinaciones = list(product(*variables))\n",
        "\n",
        "        # Resultado\n",
        "        tabla_valores = []\n",
        "\n",
        "        # Iteramos sobre las combinaciones y agregamos las filas\n",
        "        for x in combinaciones:\n",
        "            fila = dict(zip([var.nombre for var in self.alcance], x))\n",
        "            fila['Prob'] = self.valores[combinaciones.index(x)] # Agrega el atributo valores del factor\n",
        "            tabla_valores.append(fila)\n",
        "\n",
        "        # Establecemos la tabla del factor\n",
        "        self.tabla = tabla_valores\n",
        "\n",
        "    def index(self,dir):\n",
        "\n",
        "        \"\"\"\n",
        "            Metodo auxiliar que recibe como parametro\n",
        "            un diccionario, cuyas llabes sean variables\n",
        "            y los valores sean el valor asignado a cada\n",
        "            una.\n",
        "\n",
        "            param: diccionario\n",
        "            return: el indice del diccionario pasado\n",
        "            como parametro en la tabla factor.\n",
        "        \"\"\"\n",
        "\n",
        "        # Lista de los valores a buscar\n",
        "        valores = []\n",
        "        for i in range(len(self.alcance)):\n",
        "            key = self.alcance[i]\n",
        "            valor = dir[key]\n",
        "            valores.append(valor)\n",
        "\n",
        "        # Uso del polinomio de direccionamiento\n",
        "        return self.pol(0,valores)\n",
        "\n",
        "    def pol(self, i, valores):\n",
        "\n",
        "        \"\"\"\n",
        "            Implementacion recursiva del polinomio\n",
        "            de direccionamiento. Regresa el indice\n",
        "            de un conjunto de valores a buscar en\n",
        "            la tabla.\n",
        "\n",
        "            param: i : indice de la variable aleatoria actual\n",
        "            param: valores: lista de valores a buscar\n",
        "            return: indice\n",
        "        \"\"\"\n",
        "\n",
        "        if len(valores) == 1:\n",
        "            return self.pos(valores[0],i)\n",
        "\n",
        "        # Multiplicacion de longitudes\n",
        "        mult = 1\n",
        "        for v in self.alcance[i+1::]:\n",
        "            mult *= len(v.valores_posibles)\n",
        "\n",
        "        # Posicion del valor en la variable aleatoria\n",
        "        pos = self.pos(valores[0],i)\n",
        "        valores.pop(0)\n",
        "\n",
        "        # Llamada recursiva\n",
        "        return ( pos * mult) + self.pol(i+1,valores)\n",
        "\n",
        "    def pos(self, valor, i):\n",
        "\n",
        "        \"\"\"\n",
        "            Regresa el indice de un valor\n",
        "            en los posibles valores de la\n",
        "            variable.\n",
        "\n",
        "            param: posible valor de la variable\n",
        "            param: indice de la variable aleatoria\n",
        "            en el alcance del factor.\n",
        "            return: indice\n",
        "        \"\"\"\n",
        "\n",
        "        variable = self.alcance[i]\n",
        "        indice = variable.valores_posibles.index(valor)\n",
        "        return indice\n",
        "\n",
        "    def multiply(self,factor):\n",
        "\n",
        "        \"\"\"\n",
        "            Multiplicacion\n",
        "\n",
        "            param: factor a multiplicar\n",
        "            return: un nuevo factor resultado\n",
        "            de la multiplicacion por el factor\n",
        "            pasado como parametro.\n",
        "        \"\"\"\n",
        "\n",
        "        # Encontrar variables comunes en ambos factores\n",
        "        variables_comunes = set(self.alcance).intersection(factor.alcance)\n",
        "\n",
        "        # Combinar alcance y valores de ambos factores\n",
        "        nuevo_alcance = list(self.alcance) + [var for var in factor.alcance if var not in variables_comunes]\n",
        "        nuevo_valores = []\n",
        "\n",
        "        # Permutaciones sobre los posibles valores de las variables\n",
        "        for combo in product(*[var.valores_posibles for var in nuevo_alcance]):\n",
        "            fila_factor1 = {var: valor for var, valor in zip(nuevo_alcance, combo)}\n",
        "            fila_factor2 = {var: valor for var, valor in zip(nuevo_alcance, combo)}\n",
        "            nuevo_valores.append(self.valores[self.index(fila_factor1)] * factor.valores[factor.index(fila_factor2)])\n",
        "\n",
        "        return Factor(nuevo_alcance, nuevo_valores)\n",
        "\n",
        "    def reduce(self, variable, valor):\n",
        "\n",
        "        \"\"\"\n",
        "            Reduccion\n",
        "\n",
        "            param: variable: variable a reducir\n",
        "            param: valor: valor a reducir\n",
        "            return: nuevo factor resultado\n",
        "            de la reduccion.\n",
        "        \"\"\"\n",
        "\n",
        "        # Extraemos las variables existentes al aplicar la reduccion\n",
        "        nuevas_variables = [var for var in self.alcance if var != variable]\n",
        "\n",
        "        if not nuevas_variables:\n",
        "            # Si no hay variables nuevas despues de la reduccion, devolver una copia del factor original\n",
        "            return Factor(self.alcance, self.valores.copy())\n",
        "\n",
        "        nuevo_alcance = tuple(nuevas_variables)\n",
        "        nuevo_valores = []\n",
        "\n",
        "        # Permutaciones sobre los posibles valores de las variables\n",
        "        for combo in product(*[var.valores_posibles for var in nuevo_alcance]):\n",
        "            fila_factor = {var: valor for var, valor in zip(nuevo_alcance, combo)}\n",
        "            fila_completa = {**fila_factor, variable: valor}\n",
        "            nuevo_valores.append(self.valores[self.index(fila_completa)])\n",
        "\n",
        "        return Factor(nuevo_alcance, nuevo_valores)\n",
        "\n",
        "    def normalize(self):\n",
        "\n",
        "        \"\"\"\n",
        "            Normalizacion\n",
        "\n",
        "            return: nuevo factor\n",
        "            resultado de la\n",
        "            normalizacion\n",
        "        \"\"\"\n",
        "\n",
        "        # Sumamos los valores\n",
        "        suma_valores = sum(self.valores)\n",
        "        if suma_valores != 0:\n",
        "            # A cada valor lo dividimos por la suma de todos los valores\n",
        "            valores_normalizados = [valor / suma_valores for valor in self.valores]\n",
        "            return Factor(self.alcance, valores_normalizados)\n",
        "        else:\n",
        "            # Si la suma es 0 regresamos una copia del factor actual\n",
        "            return Factor(self.alcance, self.valores.copy())\n",
        "\n",
        "    def marginalize(self, variable):\n",
        "\n",
        "        \"\"\"\n",
        "            Marginalizacion\n",
        "\n",
        "            param: variable: La variable que se eliminara al marginalizar.\n",
        "            return: nuevo factor resultado de la marginalización.\n",
        "        \"\"\"\n",
        "\n",
        "        nuevas_variables = [var for var in self.alcance if var != variable]\n",
        "        if not nuevas_variables:\n",
        "            # Si no hay variables nuevas despues de la marginalizacion, devolver una copia del factor original\n",
        "            return Factor(self.alcance, self.valores.copy())\n",
        "\n",
        "        nuevo_alcance = tuple(nuevas_variables)\n",
        "        nuevo_valores = []\n",
        "\n",
        "        # Permutaciones de los valores de las variables en el nuevo alcance\n",
        "        for combo in product(*[var.valores_posibles for var in nuevo_alcance]):\n",
        "            fila_factor = {var: valor for var, valor in zip(nuevo_alcance, combo)}\n",
        "            fila_completa = {**fila_factor, variable: None}\n",
        "\n",
        "            # Sumar sobre la variable que se está marginalizando\n",
        "            suma_valores = sum(self.valores[self.index({**fila_completa, variable: v})] for v in variable.valores_posibles)\n",
        "            nuevo_valores.append(suma_valores)\n",
        "\n",
        "        return Factor(nuevo_alcance, nuevo_valores)\n",
        "\n",
        "    def __str__(self) -> str:\n",
        "\n",
        "        self._generar_tabla_de_valores()\n",
        "\n",
        "        resultado = ' '.join([v.nombre for v in self.alcance]) + ' | ' + 'Prob\\n'\n",
        "        for fila in self.tabla:\n",
        "            valores = [str(fila[n]) for n in [v.nombre for v in self.alcance]]\n",
        "            resultado += ' '.join(valores) + ' | ' + str(fila['Prob']) + '\\n'\n",
        "\n",
        "        return resultado"
      ],
      "metadata": {
        "id": "TmIU_jeRp7ls"
      },
      "execution_count": 87,
      "outputs": []
    },
    {
      "cell_type": "markdown",
      "source": [
        "## Antecedentes\n",
        "\n",
        "Hace tres diás el diamante Colossus fue robado del museo de la Ciudad Ladrillos. El Agente Toño está a cargo del caso y cuenta con la siguiente información. Hay cinco personas sospechosas y se desea determinar quiénes participaron en el robo:\n",
        "\n",
        "- Daniel\n",
        "- Rita\n",
        "- Joaquín\n",
        "- Camelia\n",
        "- Sam\n",
        "\n",
        "de donde tendremos cinco variables aleatorias: **DP**, **RP**, **JP**, **CP**, **SP** correspondiendo a la inicial del nombre y la palabra \"participó\"."
      ],
      "metadata": {
        "id": "EPWlxLmTo1IW"
      }
    },
    {
      "cell_type": "code",
      "source": [
        "# = Variables =\n",
        "\n",
        "DP = Variable(\"DP\", [0,1]) # Diego participo\n",
        "RP = Variable(\"RP\", [0,1]) # Rita participo\n",
        "JP = Variable(\"JP\", [0,1]) # Joaquin participo\n",
        "CP = Variable(\"CP\", [0,1]) # Camelia participo\n",
        "SP = Variable(\"SP\", [0,1]) # Sam participo\n"
      ],
      "metadata": {
        "id": "fQdss5_AqnOu"
      },
      "execution_count": 88,
      "outputs": []
    },
    {
      "cell_type": "markdown",
      "source": [
        "1. Tanto Daniel como joaquín suelen organizar robos de este tipo. De cada diez casos, Joaquín ha estado en siete y Daniel en cinco"
      ],
      "metadata": {
        "id": "dz-Oz-1XrJjc"
      }
    },
    {
      "cell_type": "code",
      "source": [
        "fDP = Factor((DP,), [0.5,0.5]) # P(DP)\n",
        "fJP = Factor((JP,), [0.3,0.7]) # P(JP)\n",
        "\n",
        "print(fDP)\n",
        "print(fJP)"
      ],
      "metadata": {
        "colab": {
          "base_uri": "https://localhost:8080/"
        },
        "id": "0fbo6-Rx5-kD",
        "outputId": "9b951133-652a-4f8f-ead0-f5b908ae967c"
      },
      "execution_count": 89,
      "outputs": [
        {
          "output_type": "stream",
          "name": "stdout",
          "text": [
            "DP | Prob\n",
            "0 | 0.5\n",
            "1 | 0.5\n",
            "\n",
            "JP | Prob\n",
            "0 | 0.3\n",
            "1 | 0.7\n",
            "\n"
          ]
        }
      ]
    },
    {
      "cell_type": "markdown",
      "source": [
        "2. Rita ha participando anteriormente en robos con Daniel y Joaquín, aunque se lleva mejor con Daniel. Además, el empleo E de Rita estaba en riesgo, aunque el reporte no indica si lo perdió o no; la probabilidad de que lo hubiera perdido era del 65 %. Cuando Daniel y Joaquín participaron, ella estuvo con el equipo el 90% de las\n",
        "ocasiones, si sólo estaba Daniel el 80 %, si sólo estaba Joaquín, el 45 %, y nunca actúa sin alguno de ellos. Si Rita está ocupada con su empleo esas probabilidades se reducen a la mitad.\n",
        "\n",
        " **E** =  \"Rita perdio el empleo\""
      ],
      "metadata": {
        "id": "HfcES_XvuDMv"
      }
    },
    {
      "cell_type": "code",
      "source": [
        "# Variables\n",
        "\n",
        "E = Variable(\"E\", [0,1]) # Rita perdio el empleo\n",
        "\n",
        "fE = Factor((E,), [0.35,0.65]) # P(E)\n",
        "fRP_DPJPE = Factor((E,JP,DP,RP), [1,0,0.6,0.4,1-((9/20)/2),(9/20)/2,0.55,0.45,1,0,0.2,0.8,0.55,0.45,0.1,0.9]) # P(RP|DP,JP,E)\n",
        "\n",
        "print(fE)\n",
        "print(fRP_DPJPE)"
      ],
      "metadata": {
        "colab": {
          "base_uri": "https://localhost:8080/"
        },
        "id": "kTdXPIrLu9F4",
        "outputId": "acddbefb-0c05-4946-fd88-f069953f5f74"
      },
      "execution_count": 90,
      "outputs": [
        {
          "output_type": "stream",
          "name": "stdout",
          "text": [
            "E | Prob\n",
            "0 | 0.35\n",
            "1 | 0.65\n",
            "\n",
            "E JP DP RP | Prob\n",
            "0 0 0 0 | 1\n",
            "0 0 0 1 | 0\n",
            "0 0 1 0 | 0.6\n",
            "0 0 1 1 | 0.4\n",
            "0 1 0 0 | 0.775\n",
            "0 1 0 1 | 0.225\n",
            "0 1 1 0 | 0.55\n",
            "0 1 1 1 | 0.45\n",
            "1 0 0 0 | 1\n",
            "1 0 0 1 | 0\n",
            "1 0 1 0 | 0.2\n",
            "1 0 1 1 | 0.8\n",
            "1 1 0 0 | 0.55\n",
            "1 1 0 1 | 0.45\n",
            "1 1 1 0 | 0.1\n",
            "1 1 1 1 | 0.9\n",
            "\n"
          ]
        }
      ]
    },
    {
      "cell_type": "markdown",
      "source": [
        "3. Se sabe que Sam es amigo de Rita, y no le gusta el empleo de Rita.Por lo que, con tal de que lo deje, si ella conservó el empleo la probabilidad de que hubiera participado es del 80% independientemente de que ella participara o no.Si Rita perdió el empleo y participó, la probabilidad de que Sam también estuviera involucrado es del 65 %, si ella no participó, es del 20 %."
      ],
      "metadata": {
        "id": "mDU0VATIxSLf"
      }
    },
    {
      "cell_type": "code",
      "source": [
        "fSP_ERP = Factor((E,RP,SP), [0.2,0.8,0.2,0.8,0.8,0.2,0.35,0.65]) # P(SP|E,RP)\n",
        "print(fSP_ERP)"
      ],
      "metadata": {
        "colab": {
          "base_uri": "https://localhost:8080/"
        },
        "id": "4tRutWQmC_Ya",
        "outputId": "94a1be9d-aca5-471a-ef54-6edcc4f8c3ac"
      },
      "execution_count": 91,
      "outputs": [
        {
          "output_type": "stream",
          "name": "stdout",
          "text": [
            "E RP SP | Prob\n",
            "0 0 0 | 0.2\n",
            "0 0 1 | 0.8\n",
            "0 1 0 | 0.2\n",
            "0 1 1 | 0.8\n",
            "1 0 0 | 0.8\n",
            "1 0 1 | 0.2\n",
            "1 1 0 | 0.35\n",
            "1 1 1 | 0.65\n",
            "\n"
          ]
        }
      ]
    },
    {
      "cell_type": "markdown",
      "source": [
        "4. El alarma del museo fue desactivada, esto se logra mediante el uso de alguno de tres dispositivos: A, B y C, de los cuales debieron haber elegido alguno (DiE = dispositivo elegido). Dependiendo de la pericia de su usuario, puede ser posible retirarlos antes de marcharse o no (DiA = dispositivo abandonado). Camelia trabaja en un laboratorio de electrónica donde se puede tener acceso a estos dispositivos y sabe muy bien cómo usarlos. Si ella participó existe una probabilidad del 20% de que un dispositivo de tipo A haya sido abandonado en el museo, sino, esta probabilidad es del 35 %; ella dejará del dispositivo B con el 40 %, mientras que otro lo hará con un 85 %; sólo en un 10% ella dejará un dispositivo C, mientras que otra persona lo dejára el 45% de la veces.\n",
        "\n",
        "  **DiE** = \"dispositivo elegido\"\n",
        "\n",
        "  **DiA** = \"dispositivo abandonado\""
      ],
      "metadata": {
        "id": "LG67v7gbx6Hd"
      }
    },
    {
      "cell_type": "code",
      "source": [
        "# Variables\n",
        "\n",
        "DiE = Variable(\"DiE\", [\"A\",\"B\",\"C\"]) # Dispositivo elegido\n",
        "DiA = Variable(\"DiA\", [0,1]) # Dispositivo abandonado\n",
        "\n",
        "fDiA_CPDiE = Factor((CP,DiE,DiA), [0.65,0.35,0.15,0.85,0.55,0.45,0.8,0.2,0.6,0.4,0.9,0.1]) # P(DiA|CP,DiE)\n",
        "print(fDiA_CPDiE)"
      ],
      "metadata": {
        "colab": {
          "base_uri": "https://localhost:8080/"
        },
        "id": "50kHk993Lr50",
        "outputId": "f986b645-4d2b-41ed-a9ce-bd18bd01ad3b"
      },
      "execution_count": 92,
      "outputs": [
        {
          "output_type": "stream",
          "name": "stdout",
          "text": [
            "CP DiE DiA | Prob\n",
            "0 A 0 | 0.65\n",
            "0 A 1 | 0.35\n",
            "0 B 0 | 0.15\n",
            "0 B 1 | 0.85\n",
            "0 C 0 | 0.55\n",
            "0 C 1 | 0.45\n",
            "1 A 0 | 0.8\n",
            "1 A 1 | 0.2\n",
            "1 B 0 | 0.6\n",
            "1 B 1 | 0.4\n",
            "1 C 0 | 0.9\n",
            "1 C 1 | 0.1\n",
            "\n"
          ]
        }
      ]
    },
    {
      "cell_type": "markdown",
      "source": [
        "5. Joaquín ha trabajado con Camelia en proyectos legales, existe una probabilidad del 15% de que Camelia hubiera aceptado participar en el robo sólo si Joaquín lo hizo y un 1% de que ella no hubiera participado y de hecho, ella hubiera ideado el robo. Si Joaquín no participó ella queda libre de toda sospecha pues no tendría ni conexión ni motivo para participar.\n",
        "\n"
      ],
      "metadata": {
        "id": "ciiPwTBUztQh"
      }
    },
    {
      "cell_type": "code",
      "source": [
        "fCP_JP = Factor((JP,CP), [1,0,0.85,0.15]) # P(CP|JP)\n",
        "print(fCP_JP)"
      ],
      "metadata": {
        "colab": {
          "base_uri": "https://localhost:8080/"
        },
        "id": "qg4xMdY3NzcR",
        "outputId": "886c98e2-afb5-4e61-afb9-7de17b104b5d"
      },
      "execution_count": 93,
      "outputs": [
        {
          "output_type": "stream",
          "name": "stdout",
          "text": [
            "JP CP | Prob\n",
            "0 0 | 1\n",
            "0 1 | 0\n",
            "1 0 | 0.85\n",
            "1 1 | 0.15\n",
            "\n"
          ]
        }
      ]
    },
    {
      "cell_type": "markdown",
      "source": [
        "6. Independientemente de que Camelia haya estado ahí para usar el dispositivo, pudo haberse limitado a asesorar a los asaltantes (CA). Se sabe que Daniel la conoce y, de haber participado en el robo, hay un 50% de probabilidades de que le haya pedido asesoría. Si no participó, no hubo quien solicitara la asesoría.\n",
        "\n",
        "  **CA** = \"Camelia asesoró\""
      ],
      "metadata": {
        "id": "YaCYEIa_0Ymb"
      }
    },
    {
      "cell_type": "code",
      "source": [
        "# Variables\n",
        "\n",
        "CA = Variable(\"CA\", [0,1]) # Camelia asesoro\n",
        "\n",
        "fCA_DP = Factor((DP,CA), [1,0,0.5,0.5]) # P(CA|DP)\n",
        "print(fCA_DP)"
      ],
      "metadata": {
        "colab": {
          "base_uri": "https://localhost:8080/"
        },
        "id": "E3EGxpaUQh7Q",
        "outputId": "2985af5b-9ecf-425b-a375-50c5dc0b0c8c"
      },
      "execution_count": 94,
      "outputs": [
        {
          "output_type": "stream",
          "name": "stdout",
          "text": [
            "DP CA | Prob\n",
            "0 0 | 1\n",
            "0 1 | 0\n",
            "1 0 | 0.5\n",
            "1 1 | 0.5\n",
            "\n"
          ]
        }
      ]
    },
    {
      "cell_type": "markdown",
      "source": [
        "7. Entonces, el dispositivo elegido DiE para el robo dependió de si Camelia dió asesoría o participó el robo. Si Camelia participó en el robo definitivamente eligió el dispositivo C, pero si dió asesoría para que lo usara otra persona habrá sugerido el dispositivo B, si no participó ni asesorando ni en persona, un no especialista había elegido el dispositivo A el 25% de las veces, el B el 40% pues es más comercial y el C el 35 %."
      ],
      "metadata": {
        "id": "RFeinfkW1MVf"
      }
    },
    {
      "cell_type": "code",
      "source": [
        "fDiE_CACP = Factor((CA,CP,DiE), [0.25,0.4,0.35,0,0,1,0,1,0,0,0,1]) # P(DiE|CA,CP)\n",
        "print(fDiE_CACP)"
      ],
      "metadata": {
        "colab": {
          "base_uri": "https://localhost:8080/"
        },
        "id": "yuDHOiizRDv_",
        "outputId": "074fab7c-3834-49a5-f848-86508249551f"
      },
      "execution_count": 95,
      "outputs": [
        {
          "output_type": "stream",
          "name": "stdout",
          "text": [
            "CA CP DiE | Prob\n",
            "0 0 A | 0.25\n",
            "0 0 B | 0.4\n",
            "0 0 C | 0.35\n",
            "0 1 A | 0\n",
            "0 1 B | 0\n",
            "0 1 C | 1\n",
            "1 0 A | 0\n",
            "1 0 B | 1\n",
            "1 0 C | 0\n",
            "1 1 A | 0\n",
            "1 1 B | 0\n",
            "1 1 C | 1\n",
            "\n"
          ]
        }
      ]
    },
    {
      "cell_type": "markdown",
      "source": [
        "8. La probabilidad de encontrar un dispositivo en el museo DiM depende del dispositivo que haya sido elegido y de que éste sea abandonado por quien lo usó. Si un dispositivo tipo A fue abandonado hay un 97% de probabilidades de que la policía lo encuentre; 99% para un dispositivo B y 90% para un dispositivo C.\n",
        "\n",
        "  **DiM** = \"dispositivo en el museo\""
      ],
      "metadata": {
        "id": "Mlpd3L5m2SEF"
      }
    },
    {
      "cell_type": "code",
      "source": [
        "# Variables\n",
        "DiM = Variable(\"DiM\", [0,1]) # Dispositivo en el museo\n",
        "\n",
        "fDiM_DiEDiA = Factor((DiE,DiA,DiM), [1,0,0.03,0.97,1,0,0.01,0.99,1,0,0.1,0.9]) # P(DiM|DiE,DiA)\n",
        "print(fDiM_DiEDiA)"
      ],
      "metadata": {
        "colab": {
          "base_uri": "https://localhost:8080/"
        },
        "id": "N5O-xZ9jTiYq",
        "outputId": "77ecbf1e-e684-4248-c266-88eed9821568"
      },
      "execution_count": 96,
      "outputs": [
        {
          "output_type": "stream",
          "name": "stdout",
          "text": [
            "DiE DiA DiM | Prob\n",
            "A 0 0 | 1\n",
            "A 0 1 | 0\n",
            "A 1 0 | 0.03\n",
            "A 1 1 | 0.97\n",
            "B 0 0 | 1\n",
            "B 0 1 | 0\n",
            "B 1 0 | 0.01\n",
            "B 1 1 | 0.99\n",
            "C 0 0 | 1\n",
            "C 0 1 | 0\n",
            "C 1 0 | 0.1\n",
            "C 1 1 | 0.9\n",
            "\n"
          ]
        }
      ]
    },
    {
      "cell_type": "markdown",
      "source": [
        "9. Para encontrar la ubicación U del diamante se consideran tres posibilidades:\n",
        "\n",
        "- Sam tiene una caja de seguridad en el banco, si él participó el diamante podría estar ahí.\n",
        "- Daniel es un mandón, pero algo imprudente, cuando ha participado en un robo frecuentemente los objetos han sido encontrados en su casa.\n",
        "- A Joaquín no le gusta correr riesgos y considera que Daniel es muy descuidado, pero también es muy metódico. En ocasiones anteriores se ha encontrado el botín enterrado en un punto equidistante a las casas de todos los participantes.\n",
        "\n",
        "  Si, de ellos tres, sólo Sam participó, el diamante estará en su caja de seguridad. Si Daniel participó, pero no Joaquín, hay un 80% de probabilidades de que esté en casa de Daniel, un 15% en la caja de Sam y un 5% de que le hayan copiado la idea a Joaquín. Si Joaquín participó, pero no Daniel, hay un 65% de probabilidad de que el diamante esté enterrado, un 30% de que esté en la caja y un 5% de que\n",
        "  lo hayan sembrado en casa de Daniel. Si tanto Daniel como Joaquín estuvieron en el equipo, cualquiera de los tres lugares es igualmente probable... incluso si Sam no participó. Si ninguno de los tres participó la casa de Daniel sigue siendo un buen escondite con el 60 %, el punto central con 30% y la caja de Sam 10 %.\n",
        "\n",
        "  **U** = \"ubicación del diamante\""
      ],
      "metadata": {
        "id": "fnJlMmgw4iQs"
      }
    },
    {
      "cell_type": "code",
      "source": [
        "# Variable\n",
        "\n",
        "U = Variable(\"U\", [\"caja\", \"casa\", \"ente\"]) # Ubicacion del diamante, valores: \"casa\", \"caja\", \"enterrado\"\n",
        "\n",
        "fU_SPDPJP = Factor((SP,DP,JP,U), [0.1,0.6,0.3,\n",
        "                                  0.3,0.05,0.65,\n",
        "                                  0.15,0.8,0.05,\n",
        "                                  1/3,1/3,1/3,\n",
        "                                  1,0,0,\n",
        "                                  0.3,0.05,0.65,\n",
        "                                  0.15,0.8,0.05,\n",
        "                                  1/3,1/3,1/3]) # P(U|SP,DP,JP)\n",
        "print(fU_SPDPJP)"
      ],
      "metadata": {
        "colab": {
          "base_uri": "https://localhost:8080/"
        },
        "id": "YUqUddA_Db5r",
        "outputId": "1c79f29a-6aad-43fc-a72d-b92e71704ba8"
      },
      "execution_count": 97,
      "outputs": [
        {
          "output_type": "stream",
          "name": "stdout",
          "text": [
            "SP DP JP U | Prob\n",
            "0 0 0 caja | 0.1\n",
            "0 0 0 casa | 0.6\n",
            "0 0 0 ente | 0.3\n",
            "0 0 1 caja | 0.3\n",
            "0 0 1 casa | 0.05\n",
            "0 0 1 ente | 0.65\n",
            "0 1 0 caja | 0.15\n",
            "0 1 0 casa | 0.8\n",
            "0 1 0 ente | 0.05\n",
            "0 1 1 caja | 0.3333333333333333\n",
            "0 1 1 casa | 0.3333333333333333\n",
            "0 1 1 ente | 0.3333333333333333\n",
            "1 0 0 caja | 1\n",
            "1 0 0 casa | 0\n",
            "1 0 0 ente | 0\n",
            "1 0 1 caja | 0.3\n",
            "1 0 1 casa | 0.05\n",
            "1 0 1 ente | 0.65\n",
            "1 1 0 caja | 0.15\n",
            "1 1 0 casa | 0.8\n",
            "1 1 0 ente | 0.05\n",
            "1 1 1 caja | 0.3333333333333333\n",
            "1 1 1 casa | 0.3333333333333333\n",
            "1 1 1 ente | 0.3333333333333333\n",
            "\n"
          ]
        }
      ]
    },
    {
      "cell_type": "markdown",
      "source": [
        "# Grafica de Bayes\n"
      ],
      "metadata": {
        "id": "xhae9sQgG4e6"
      }
    },
    {
      "cell_type": "code",
      "source": [
        "import networkx as nx\n",
        "import matplotlib.pyplot as plt\n",
        "\n",
        "# Definir las adyacencias de los nodos\n",
        "grafo = {\n",
        "    'DP': ['U', 'CA', 'RP'],\n",
        "    'RP': ['SP'],\n",
        "    'JP': ['U', 'RP', 'CP'],\n",
        "    'CP': ['DiE', 'DiA'],\n",
        "    'SP': ['U'],\n",
        "    'E': ['RP', 'SP'],\n",
        "    'DiE': ['DiA', 'DiM'],\n",
        "    'DiA': ['DiM'],\n",
        "    'CA': ['DiE'],\n",
        "    'DiM': [],\n",
        "    'U': [],\n",
        "}\n",
        "\n",
        "# Definir la posición de cada nodo manualmente\n",
        "posiciones = {\n",
        "    'DP': (4, 5),\n",
        "    'RP': (5, 4),\n",
        "    'JP': (2, 5),\n",
        "    'CP': (0, 4),\n",
        "    'SP': (5, 3),\n",
        "    'E': (6, 5),\n",
        "    'DiE': (2, 3),\n",
        "    'DiA': (1, 2),\n",
        "    'CA': (3, 4),\n",
        "    'DiM': (2, 0),\n",
        "    'U': (3, 0),\n",
        "}\n",
        "\n",
        "# Crear un grafo dirigido desde las adyacencias\n",
        "G = nx.DiGraph(grafo)\n",
        "\n",
        "# Dibujar el grafo\n",
        "pos = posiciones  # Posición de los nodos\n",
        "nx.draw(G, pos, with_labels=True, node_size=700, node_color='skyblue', font_size=8, font_color='black', font_weight='bold', arrowsize=10)\n",
        "\n",
        "# Mostrar el grafo\n",
        "plt.title(\"Red de Bayes: Policias y Ladrones\")\n",
        "plt.show()\n"
      ],
      "metadata": {
        "colab": {
          "base_uri": "https://localhost:8080/",
          "height": 539
        },
        "id": "hoiilugRQODG",
        "outputId": "88261b0d-eda0-4644-8564-20925b7e94f5"
      },
      "execution_count": 98,
      "outputs": [
        {
          "output_type": "display_data",
          "data": {
            "text/plain": [
              "<Figure size 640x480 with 1 Axes>"
            ],
            "image/png": "[encoded data removed]"
          },
          "metadata": {}
        }
      ]
    },
    {
      "cell_type": "markdown",
      "source": [
        "# P(U)\n",
        "$P(U) = P(U|SP,JP,DP)P(SP|E,RP)P(RP|E,JP,DP)P(E)P(JP)P(DP)$\n",
        "### Ecuacion1\n",
        "$ = Σ_{SP,JP,DP,E,RP} P(U|SP,JP,DP)P(SP|E,RP)P(RP|E,JP,DP)P(E)P(JP)P(DP)$\n",
        "### Ecuacion2\n",
        "$ = Σ_{E}P(E)Σ_{RP,SP}P(SP|E,RP)Σ_{DP}P(DP)Σ_{JP}P(U|SP,JP,DP)P(RP|E,JP,DP)P(JP)$"
      ],
      "metadata": {
        "id": "WImAnrgYVpCY"
      }
    },
    {
      "cell_type": "code",
      "source": [
        "def ecuacion1():\n",
        "\n",
        "  # Σ_{SP,JP,DP,E,RP} P(U|SP,JP,DP)P(SP|E,RP)P(RP|E,JP,DP)P(E)P(JP)P(DP)\n",
        "\n",
        "  # Prob = P(JP) * P(DP)\n",
        "  Prob = fJP.multiply(fDP)\n",
        "  print(\"Cantidad de renglones: {}\".format(len(Prob.valores)))\n",
        "  # Prob = P(E) * Prob\n",
        "  Prob = fE.multiply(Prob)\n",
        "  print(\"Cantidad de renglones: {}\".format(len(Prob.valores)))\n",
        "  # Prob = P(RP|E,JP,DP) * Prob\n",
        "  Prob = fRP_DPJPE.multiply(Prob)\n",
        "  print(\"Cantidad de renglones: {}\".format(len(Prob.valores)))\n",
        "  # Prob = P(SP|E,RP) * Prob\n",
        "  Prob = fSP_ERP.multiply(Prob)\n",
        "  print(\"Cantidad de renglones: {}\".format(len(Prob.valores)))\n",
        "  # Prob = P(U|SP,JP,DP) * Prob\n",
        "  Prob = fU_SPDPJP.multiply(Prob)\n",
        "  print(\"Cantidad de renglones: {}\".format(len(Prob.valores)))\n",
        "\n",
        "  # Marginalizacion para Σ_{SP,JP,DP,E,RP}\n",
        "  Prob = Prob.marginalize(RP)\n",
        "  print(\"Cantidad de renglones: {}\".format(len(Prob.valores)))\n",
        "  # Marginalizacion para Σ_{SP,JP,DP,E}\n",
        "  Prob = Prob.marginalize(E)\n",
        "  print(\"Cantidad de renglones: {}\".format(len(Prob.valores)))\n",
        "  # Marginalizacion para Σ_{SP,JP,DP}\n",
        "  Prob = Prob.marginalize(DP)\n",
        "  print(\"Cantidad de renglones: {}\".format(len(Prob.valores)))\n",
        "  # Marginalizacion para Σ_{SP,JP}\n",
        "  Prob = Prob.marginalize(JP)\n",
        "  print(\"Cantidad de renglones: {}\".format(len(Prob.valores)))\n",
        "  # Marginalizacion para Σ_{SP}\n",
        "  Prob = Prob.marginalize(SP)\n",
        "  print(\"Cantidad de renglones: {}\".format(len(Prob.valores)))\n",
        "\n",
        "  return Prob\n"
      ],
      "metadata": {
        "id": "X8e7MSwJaZAc"
      },
      "execution_count": 99,
      "outputs": []
    },
    {
      "cell_type": "code",
      "source": [
        "def ecuacion2():\n",
        "\n",
        "  # Σ_{E} P(E) * Σ_{RP,SP} P(SP|E,RP) * Σ_{DP} P(DP) * Σ_{JP} P(U|SP,JP,DP) P(RP|E,JP,DP) P(JP)\n",
        "\n",
        "  # Prob = P(RP|E,JP,DP) * P(JP)\n",
        "  Prob = fRP_DPJPE.multiply(fJP)\n",
        "  print(\"Cantidad de renglones: {}\".format(len(Prob.valores)))\n",
        "  # Prob = P(U|SP,JP,DP) * Prob\n",
        "  Prob = fU_SPDPJP.multiply(Prob)\n",
        "  print(\"Cantidad de renglones: {}\".format(len(Prob.valores)))\n",
        "  # Marginalizacion Σ_{JP}\n",
        "  Prob =  Prob.marginalize(JP)\n",
        "  print(\"Cantidad de renglones: {}\".format(len(Prob.valores)))\n",
        "  # Prob = P(DP) * Prob\n",
        "  Prob = fDP.multiply(Prob)\n",
        "  print(\"Cantidad de renglones: {}\".format(len(Prob.valores)))\n",
        "  # Marginalizacion Σ_{DP}\n",
        "  Prob = Prob.marginalize(DP)\n",
        "  print(\"Cantidad de renglones: {}\".format(len(Prob.valores)))\n",
        "  # Prob = P(SP|E,RP) * Prob\n",
        "  Prob = fSP_ERP.multiply(Prob)\n",
        "  print(\"Cantidad de renglones: {}\".format(len(Prob.valores)))\n",
        "  # Marginalizacion Σ_{RP,SP}\n",
        "  Prob = Prob.marginalize(SP)\n",
        "  print(\"Cantidad de renglones: {}\".format(len(Prob.valores)))\n",
        "  Prob = Prob.marginalize(RP)\n",
        "  print(\"Cantidad de renglones: {}\".format(len(Prob.valores)))\n",
        "  # Prob = P(E) * Prob\n",
        "  Prob = fE.multiply(Prob)\n",
        "  print(\"Cantidad de renglones: {}\".format(len(Prob.valores)))\n",
        "  # Marginalizacion Σ_{E}\n",
        "  Prob = Prob.marginalize(E)\n",
        "  print(\"Cantidad de renglones: {}\".format(len(Prob.valores)))\n",
        "\n",
        "  return Prob\n"
      ],
      "metadata": {
        "id": "yMGMo4t_c0t2"
      },
      "execution_count": 100,
      "outputs": []
    },
    {
      "cell_type": "code",
      "source": [
        "print(\"Ecuacion1 \\n {}\",ecuacion1())\n",
        "print(\"----\")\n",
        "print(\"Ecuacion2 \\n {}\",ecuacion2())\n"
      ],
      "metadata": {
        "colab": {
          "base_uri": "https://localhost:8080/"
        },
        "id": "45OSldWdf4Zq",
        "outputId": "63d5954e-8783-4070-b12c-4bcc7439b542"
      },
      "execution_count": 101,
      "outputs": [
        {
          "output_type": "stream",
          "name": "stdout",
          "text": [
            "Cantidad de renglones: 4\n",
            "Cantidad de renglones: 8\n",
            "Cantidad de renglones: 16\n",
            "Cantidad de renglones: 32\n",
            "Cantidad de renglones: 96\n",
            "Cantidad de renglones: 48\n",
            "Cantidad de renglones: 24\n",
            "Cantidad de renglones: 12\n",
            "Cantidad de renglones: 6\n",
            "Cantidad de renglones: 3\n",
            "Ecuacion1 \n",
            " {} U | Prob\n",
            "caja | 0.31451666666666667\n",
            "casa | 0.3072666666666667\n",
            "ente | 0.37821666666666665\n",
            "\n",
            "----\n",
            "Cantidad de renglones: 16\n",
            "Cantidad de renglones: 96\n",
            "Cantidad de renglones: 48\n",
            "Cantidad de renglones: 48\n",
            "Cantidad de renglones: 24\n",
            "Cantidad de renglones: 24\n",
            "Cantidad de renglones: 12\n",
            "Cantidad de renglones: 6\n",
            "Cantidad de renglones: 6\n",
            "Cantidad de renglones: 3\n",
            "Ecuacion2 \n",
            " {} U | Prob\n",
            "caja | 0.31451666666666667\n",
            "casa | 0.3072666666666667\n",
            "ente | 0.37821666666666676\n",
            "\n"
          ]
        }
      ]
    },
    {
      "cell_type": "markdown",
      "source": [
        "5. Calcula la probabilidad de que:\n",
        "  - Los cinco sospechosos hayan participado en el robo\n",
        "  - Ninguno de ellos haya sido"
      ],
      "metadata": {
        "id": "DlhRJdceId08"
      }
    },
    {
      "cell_type": "code",
      "source": [
        "def consulta5A():\n",
        "\n",
        "  # Probabilidad de que los cinco sospechosos hayan participado:\n",
        "  # P(dp,rp,jp,cp,sp) = \\alpha P(dp)P(jp)P(cp|jp) \\Sigma_{E}P(E)P(sp|rp,E)P(rp|dp,E) \\Sigma_{CA}P(CA|dp) \\Sigma_{DiE,DiA,DiM} P(DiE|cp,CA)P(DiA|cp,DiE)P(DiM|DiA,DiE)\n",
        "\n",
        "  # \\Sigma_{DiE,DiA,DiM} P(DiE|cp,CA)P(DiA|cp,DiE)P(DiM|DiA,DiE)\n",
        "  Prob = fDiA_CPDiE.multiply(fDiM_DiEDiA)\n",
        "  Prob = fDiE_CACP.multiply(Prob)\n",
        "  Prob = Prob.marginalize(DiE).marginalize(DiA).marginalize(DiM)\n",
        "\n",
        "  # \\Sigma_{CA}P(CA|dp)\n",
        "  Prob = fCA_DP.multiply(Prob)\n",
        "  Prob = Prob.marginalize(CA)\n",
        "\n",
        "  # \\Sigma_{E}P(E)P(sp|rp,E)P(rp|dp,E)\n",
        "  Prob = fRP_DPJPE.multiply(Prob)\n",
        "  Prob = fSP_ERP.multiply(Prob)\n",
        "  Prob = fE.multiply(Prob)\n",
        "  Prob = Prob.marginalize(E)\n",
        "\n",
        "  # P(dp)P(jp)P(cp|jp)\n",
        "  Prob = fCP_JP.multiply(Prob)\n",
        "  Prob = fJP.multiply(Prob)\n",
        "  Prob = fDP.multiply(Prob)\n",
        "\n",
        "  # Multiplicacion por \\alpha\n",
        "  Prob = Prob.normalize()\n",
        "\n",
        "  p_dp = Prob.reduce(RP,1).reduce(JP,1).reduce(CP,1).reduce(SP,1).valores[1]\n",
        "  p_rp = Prob.reduce(DP,1).reduce(JP,1).reduce(CP,1).reduce(SP,1).valores[1]\n",
        "  p_jp = Prob.reduce(DP,1).reduce(RP,1).reduce(CP,1).reduce(SP,1).valores[1]\n",
        "  p_cp = Prob.reduce(DP,1).reduce(RP,1).reduce(JP,1).reduce(SP,1).valores[1]\n",
        "  p_sp = Prob.reduce(DP,1).reduce(RP,1).reduce(JP,1).reduce(CP,1).valores[1]\n",
        "\n",
        "  print(\"La probabilidad de que todos hayan participado:\\n P(dp)= {}\\n P(rp)= {}\\n P(jp)= {}\\n P(cp)= {}\\n P(sp)= {}\".format(p_dp,p_rp,p_jp,p_cp,p_sp))\n",
        "  return p_dp, p_rp, p_jp, p_cp, p_sp\n",
        "\n",
        "consulta5A()\n",
        "\n"
      ],
      "metadata": {
        "colab": {
          "base_uri": "https://localhost:8080/"
        },
        "id": "ON8MI0lGIs00",
        "outputId": "ba74e72e-cc17-4bbd-ed57-fbee05c35f76"
      },
      "execution_count": 102,
      "outputs": [
        {
          "output_type": "stream",
          "name": "stdout",
          "text": [
            "La probabilidad de que todos hayan participado:\n",
            " P(dp)= 0.026578125\n",
            " P(rp)= 0.026578125\n",
            " P(jp)= 0.026578125\n",
            " P(cp)= 0.026578125\n",
            " P(sp)= 0.026578125\n"
          ]
        },
        {
          "output_type": "execute_result",
          "data": {
            "text/plain": [
              "(0.026578125, 0.026578125, 0.026578125, 0.026578125, 0.026578125)"
            ]
          },
          "metadata": {},
          "execution_count": 102
        }
      ]
    },
    {
      "cell_type": "code",
      "source": [
        "def consulta5B():\n",
        "\n",
        "  # Probabilidad de que ninguno de los cinco sospechosos haya participado:\n",
        "  # P(dp,rp,jp,cp,sp) = \\alpha P(dp)P(jp)P(cp|jp) \\Sigma_{E}P(E)P(sp|rp,E)P(rp|dp,E) \\Sigma_{CA}P(CA|dp) \\Sigma_{DiE,DiA,DiM} P(DiE|cp,CA)P(DiA|cp,DiE)P(DiM|DiA,DiE)\n",
        "\n",
        "  # \\Sigma_{DiE,DiA,DiM} P(DiE|cp,CA)P(DiA|cp,DiE)P(DiM|DiA,DiE)\n",
        "  Prob = fDiA_CPDiE.multiply(fDiM_DiEDiA)\n",
        "  Prob = fDiE_CACP.multiply(Prob)\n",
        "  Prob = Prob.marginalize(DiE).marginalize(DiA).marginalize(DiM)\n",
        "\n",
        "  # \\Sigma_{CA}P(CA|dp)\n",
        "  Prob = fCA_DP.multiply(Prob)\n",
        "  Prob = Prob.marginalize(CA)\n",
        "\n",
        "  # \\Sigma_{E}P(E)P(sp|rp,E)P(rp|dp,E)\n",
        "  Prob = fRP_DPJPE.multiply(Prob)\n",
        "  Prob = fSP_ERP.multiply(Prob)\n",
        "  Prob = fE.multiply(Prob)\n",
        "  Prob = Prob.marginalize(E)\n",
        "\n",
        "  #P(dp)P(jp)P(cp|jp)\n",
        "  Prob = fCP_JP.multiply(Prob)\n",
        "  Prob = fJP.multiply(Prob)\n",
        "  Prob = fDP.multiply(Prob)\n",
        "\n",
        "  # Multiplicacion por \\alpha\n",
        "  Prob = Prob.normalize()\n",
        "\n",
        "  p_dp = Prob.reduce(RP,0).reduce(JP,0).reduce(CP,0).reduce(SP,0).valores[0]\n",
        "  p_rp = Prob.reduce(DP,0).reduce(JP,0).reduce(CP,0).reduce(SP,0).valores[0]\n",
        "  p_jp = Prob.reduce(DP,0).reduce(RP,0).reduce(CP,0).reduce(SP,0).valores[0]\n",
        "  p_cp = Prob.reduce(DP,0).reduce(RP,0).reduce(JP,0).reduce(SP,0).valores[0]\n",
        "  p_sp = Prob.reduce(DP,0).reduce(RP,0).reduce(JP,0).reduce(CP,0).valores[0]\n",
        "\n",
        "  print(\"La probabilidad de que ninguno haya participado:\\n P(dp)= {}\\n P(rp)= {}\\n P(jp)= {}\\n P(cp)= {}\\n P(sp)= {}\".format(p_dp,p_rp,p_jp,p_cp,p_sp))\n",
        "  return p_dp, p_rp, p_jp, p_cp, p_sp\n",
        "\n",
        "consulta5B()\n"
      ],
      "metadata": {
        "colab": {
          "base_uri": "https://localhost:8080/"
        },
        "id": "fJ_8Ry3DR27A",
        "outputId": "274acabe-9a2f-4eab-865d-5b6e0817a0d4"
      },
      "execution_count": 103,
      "outputs": [
        {
          "output_type": "stream",
          "name": "stdout",
          "text": [
            "La probabilidad de que ninguno haya participado:\n",
            " P(dp)= 0.0885\n",
            " P(rp)= 0.0885\n",
            " P(jp)= 0.0885\n",
            " P(cp)= 0.0885\n",
            " P(sp)= 0.0885\n"
          ]
        },
        {
          "output_type": "execute_result",
          "data": {
            "text/plain": [
              "(0.0885, 0.0885, 0.0885, 0.0885, 0.0885)"
            ]
          },
          "metadata": {},
          "execution_count": 103
        }
      ]
    },
    {
      "cell_type": "markdown",
      "source": [
        "6. Calcula la probabilidad de que Rita haya participado y un dispositivo tipo B haya sido abandonado."
      ],
      "metadata": {
        "id": "sy39mEPOTunk"
      }
    },
    {
      "cell_type": "code",
      "source": [
        "def consulta6():\n",
        "\n",
        "  # P(rp,dia|die=B) = alpha \\Sigma_{CP,JP,CA,DP,E} P(dia|die,CP)P(die|CP,CA)P(CP|JP)P(CA|DP)P(rp|JP,DP,E)P(JP)P(DP)P(E)\n",
        "\n",
        "  # P(DP)P(E)\n",
        "  Prob = fDP.multiply(fE)\n",
        "  # P(JP) * Prob\n",
        "  Prob = fJP.multiply(Prob)\n",
        "  # P(rp|JP,DP,E) * Prob\n",
        "  Prob = fRP_DPJPE.multiply(Prob)\n",
        "  # P(CA|DP) * Prob\n",
        "  Prob = fCA_DP.multiply(Prob)\n",
        "  # P(CP|JP) * Prob\n",
        "  Prob = fCP_JP.multiply(Prob)\n",
        "  # P(die|CP,CA) * Prob\n",
        "  Prob = fDiE_CACP.multiply(Prob)\n",
        "  # P(dia|die,CP) * Prob\n",
        "  Prob = fDiA_CPDiE.multiply(Prob)\n",
        "\n",
        "  # Marginalizacion \\Sigma_{CP,JP,CA,DP,E}\n",
        "  Prob = Prob.marginalize(E)\n",
        "  # Marginalizacion \\Sigma_{CP,JP,CA,DP}\n",
        "  Prob = Prob.marginalize(DP)\n",
        "  # Marginalizacion \\Sigma_{CP,JP,CA}\n",
        "  Prob = Prob.marginalize(CA)\n",
        "  # Marginalizacion \\Sigma_{CP,JP}\n",
        "  Prob = Prob.marginalize(JP)\n",
        "  # Marginalizacion \\Sigma_{CP}\n",
        "  Prob = Prob.marginalize(CP)\n",
        "  # Reducciones\n",
        "  Prob = Prob.reduce(DiE,\"B\")\n",
        "  # Normalizamos el último vector que nos queda\n",
        "  Prob = Prob.normalize()\n",
        "\n",
        "  # Extraemos las probabilidades\n",
        "  p_rp = Prob.reduce(DiA,1).valores[1]\n",
        "  p_dia = Prob.reduce(RP,1).valores[1]\n",
        "\n",
        "  # Probabilidad final\n",
        "  Prob = p_rp * p_dia\n",
        "\n",
        "  print(\"La probabilidad de que Rita haya participado y un dispositivo tipo B haya sido abandonado : P(rp,dia|die=B)= {}\".format(Prob))\n",
        "\n",
        "  return Prob\n",
        "\n",
        "consulta6()\n",
        "\n"
      ],
      "metadata": {
        "colab": {
          "base_uri": "https://localhost:8080/"
        },
        "id": "RR3t3afLfNpW",
        "outputId": "b1593924-4c38-4d30-fe79-c3ee33b29c6c"
      },
      "execution_count": 104,
      "outputs": [
        {
          "output_type": "stream",
          "name": "stdout",
          "text": [
            "La probabilidad de que Rita haya participado y un dispositivo tipo B haya sido abandonado : P(rp,dia|die=B)= 0.21432567677009534\n"
          ]
        }
      ]
    },
    {
      "cell_type": "markdown",
      "source": [
        "7. Calcula la probabilidad de que Daniel haya participado, dado que se encontró el dispositivo B en el museo y el diamante estaba en la caja de seguridad de Sam. Para ello seguirás el método siguiente. Recuerda que, por definición de probabilidad\n",
        "condicional:\n",
        "\n",
        "$$P(DP|D=A,U=Caja)=\\frac{P(DP,DiE=B,U=Caja)}{P(DiE=B,U=Caja)}$$\n",
        "\n"
      ],
      "metadata": {
        "id": "m4FrVIG0wXRj"
      }
    },
    {
      "cell_type": "code",
      "source": [
        "def consulta7():\n",
        "\n",
        "  # P(dp|die=B,u=caja) = \\alpha P(dp) \\Sigma_{E}P(E) \\Sigma_{JP}P(JP) \\Sigma_{CA}P(CA|dp) \\Sigma_{CP}P(CP|JP)P(die|CP,CA) \\Sigma_{RP,SP} P(RP|dp,JP,E)P(SP|RP,E) \\Sigma_{DiA,DiM}P(u|dp,JP,SP)P(DiM|die,DiA)P(DiA|die,CP)\n",
        "\n",
        "  # \\Sigma_{DiA,DiM}P(u|dp,JP,SP)P(DiM|die,DiA)P(DiA|die,CP)\n",
        "  Prob = fDiA_CPDiE.reduce(DiE,\"B\")\n",
        "  Prob = fDiM_DiEDiA.reduce(DiE,\"B\").multiply(Prob)\n",
        "  Prob = fU_SPDPJP.reduce(U,\"caja\").multiply(Prob)\n",
        "  Prob = Prob.marginalize(DiA).marginalize(DiM)\n",
        "\n",
        "  # \\Sigma_{RP,SP} P(RP|dp,JP,E)P(SP|RP,E)\n",
        "  Prob = fSP_ERP.multiply(Prob)\n",
        "  Prob = fRP_DPJPE.multiply(Prob)\n",
        "  Prob = Prob.marginalize(RP).marginalize(SP)\n",
        "\n",
        "  # \\Sigma_{CP}P(CP|JP)P(die|CP,CA)\n",
        "  Prob = fDiE_CACP.reduce(DiE,\"B\").multiply(Prob)\n",
        "  Prob = fCP_JP.multiply(Prob)\n",
        "  Prob = Prob.marginalize(CP)\n",
        "\n",
        "  # \\Sigma_{CA}P(CA|dp)\n",
        "  Prob = fCA_DP.multiply(Prob)\n",
        "  Prob = Prob.marginalize(CA)\n",
        "\n",
        "  # \\Sigma_{JP}P(JP)\n",
        "  Prob = fJP.multiply(Prob)\n",
        "  Prob = Prob.marginalize(JP)\n",
        "\n",
        "  # \\Sigma_{E}P(E)\n",
        "  Prob = fE.multiply(Prob)\n",
        "  Prob = Prob.marginalize(E)\n",
        "\n",
        "  # P(dp)\n",
        "  Prob = fDP.multiply(Prob)\n",
        "\n",
        "  # Multiplicacion por \\alpha\n",
        "  Prob = Prob.normalize()\n",
        "\n",
        "  # Probabilidad de que Daniel haya participado, dado que se encontró el dispositivo B en el museo y el diamante estaba en la caja de seguridad de Sam.\n",
        "  Prob = Prob.valores[1]\n",
        "\n",
        "  print(\"Probabilidad de que Daniel haya participado, dado que se encontró el dispositivo B en el museo y el diamante estaba en la caja de seguridad de Sam: {}\".format(Prob))\n",
        "\n",
        "  return Prob\n",
        "\n",
        "consulta7()"
      ],
      "metadata": {
        "colab": {
          "base_uri": "https://localhost:8080/"
        },
        "id": "FBO9yXZi5tlM",
        "outputId": "03cd3e83-046d-450c-ce7b-9b04f11eba53"
      },
      "execution_count": 105,
      "outputs": [
        {
          "output_type": "stream",
          "name": "stdout",
          "text": [
            "Probabilidad de que Daniel haya participado, dado que se encontró el dispositivo B en el museo y el diamante estaba en la caja de seguridad de Sam: 0.5715627936110241\n"
          ]
        }
      ]
    }
  ]
}