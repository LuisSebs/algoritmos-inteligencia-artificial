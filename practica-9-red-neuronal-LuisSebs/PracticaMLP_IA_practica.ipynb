{
  "cells": [
    {
      "cell_type": "markdown",
      "source": [
        "# Autor: Arrieta Mancera Luis Sebastian"
      ],
      "metadata": {
        "id": "ah59BhtB2oZ1"
      }
    },
    {
      "cell_type": "markdown",
      "metadata": {
        "id": "u9nSEAWI4nof"
      },
      "source": [
        "# Perceptrón multicapa\n",
        "\n",
        "**Autor:** _Benjamin Torres_\n",
        "\n",
        "Marzo 2019\n",
        "\n",
        "En esta práctica implementarás distintos modelos de perceptrón multicapa para clasificar datos haciendo uso de la biblioteca Pytorch.\n",
        "\n",
        "Puedes encontrar la documentación de esta biblioteca en :\n",
        "[pytorch.org](https://pytorch.org/docs/stable/index.html)\n",
        "\n",
        "Escencialmente, PyTorch se encarga de realizar operaciones sobre **tensores**, los cuales pueden crearse haciendo uso de torch.Tensor y pasando como argumento una lista de Python, por ejemplo:\n",
        "\n",
        "```\n",
        "import torch\n",
        "a = torch.Tensor([[1,0,0],[0,1,0],[0,0,1]])\n",
        "```\n",
        "Crea una matriz identidad de 3x3.\n",
        "\n",
        "Podemos ejecutar operaciones con estos tensores de manera similar a como trabajamos con arreglos de Numpy, por ejemplo:\n",
        "\n",
        "*   Suma, con el método add() o haciendo uso del operador +\n",
        "*   Producto cruz, con el método dot() o con el operador @\n",
        "*   Producto entrada por entrada con el operador *\n",
        "*   Valor máximo, con argmax()\n",
        "*   Cambio de forma con view( (new shape) )\n",
        "\n",
        "Entre las ventajas más importantes de hacer uso de esta biblioteca está la capacidad que tiene para realizar **diferenciación automática**, que permite obtener gradientes de expresiones fácilmente, lo cual es especialmente importante en redes neuronales."
      ]
    },
    {
      "cell_type": "code",
      "execution_count": null,
      "metadata": {
        "id": "CyBRuGzjTvxe"
      },
      "outputs": [],
      "source": [
        "import math\n",
        "import random\n",
        "import numpy as np\n",
        "\n",
        "import torch\n",
        "import torch.nn as nn\n",
        "import torch.optim as optim\n",
        "\n",
        "import matplotlib.pyplot as plt\n",
        "#!pip install --force https://github.com/chengs/tqdm/archive/colab.zip\n",
        "from tqdm import tnrange\n"
      ]
    },
    {
      "cell_type": "markdown",
      "metadata": {
        "id": "d_-xhrpqpQ5_"
      },
      "source": [
        "Para la implementación de redes neuronales podemos hacer uso de la clase nn.Module.  Ésta se debe extender y se implementa el constructor, así como la manera de hacer *feed forward* con valores de entrada.  Las capas de la red se definen utilizando objetos nn.Linear.\n",
        "\n",
        "## Ejemplo: Perceptrón simple\n",
        "\n",
        "En la siguiente celda puedes encontrar un ejemplo de la implementación de un perceptrón que simula la compuerta AND."
      ]
    },
    {
      "cell_type": "code",
      "execution_count": null,
      "metadata": {
        "id": "rT8xE8XlpP0u"
      },
      "outputs": [],
      "source": [
        "class Perceptron(nn.Module):\n",
        "    def __init__(self, input_size, output_size, bias=True):\n",
        "      ''' Puedes definir tantos parámetros de entrada como necesites, en este caso únicamente\n",
        "      el número de elementos de entrada y de salida, observa que debes agregar a self los\n",
        "      objetos nn.Linear que desees usar, en este caso sólo es uno.\n",
        "      '''\n",
        "      super(Perceptron, self).__init__()\n",
        "      self.fc1 = nn.Linear(in_features = input_size, out_features = output_size, bias=bias)\n",
        "\n",
        "    def forward(self, inputX):\n",
        "      '''Debes sobreescibir el método forward, el cual recibe únicamente una entrada:\n",
        "      los valores sobre los que se evaluará la red.\n",
        "      Para hacer pasar la entrada a través de una capa, sólo debes llamarla con la entrada\n",
        "      como parámetro.\n",
        "      Finalmente puedes notar que se puede aplicar una función de activación a\n",
        "      todos los valores resultantes.\n",
        "      Este método debe resultar en, al menos una salida.\n",
        "      '''\n",
        "      out = torch.sigmoid(self.fc1(inputX))\n",
        "      return out"
      ]
    },
    {
      "cell_type": "markdown",
      "metadata": {
        "id": "FLtNcAWIwFfJ"
      },
      "source": [
        "Con la clase implementada ahora sólo es necesario definir la manera en la que se realiza el entrenamiento.\n",
        "\n",
        "Puedes implementar un método train que reciba los parámetros necesarios, entre los cuales se encuentra:\n",
        "\n",
        "*   El modelo que se desea entrenar (debe heredar de nn.Module).\n",
        "*   El número de epocas de entrenamiento.\n",
        "*   Los datos de entrenamiento (entradas) y sus etiquetas.\n",
        "*   El criterio de oprimización, es decir, la función de costo, las cuales puedes consultar en [Pytorch loss functions.](https://pytorch.org/docs/stable/nn.html#loss-functions)\n",
        "*   El método de optimizacion, por ejemplo SGD, distintos algoritmos se encuentran implementados en el modulo [torch.optim](https://pytorch.org/docs/stable/optim.html)"
      ]
    },
    {
      "cell_type": "code",
      "execution_count": null,
      "metadata": {
        "id": "LYaDo0v0wEr2"
      },
      "outputs": [],
      "source": [
        "def train(net, epochs, data, labels, criterion, optimizer, cuda=False):\n",
        "    '''Entrena la red net, por un numero de epocas \"epochs\",\n",
        "    usando como función de pérdida la definida en \"criterion\" y el\n",
        "    optimizador pasado como parámetro.'''\n",
        "\n",
        "    avg_loss = torch.Tensor()\n",
        "    tqdm_epochs = tnrange(epochs)\n",
        "    for epoch in tqdm_epochs:\n",
        "        for d,label in zip(data,labels):\n",
        "            if(cuda and torch.cuda.is_available()): #Si nuestra PC cuenta con GPU,realizamos cálculos en ella\n",
        "                d = d.cuda()\n",
        "                label = label.cuda()\n",
        "\n",
        "            optimizer.zero_grad() #limpiamos los gradientes actuales\n",
        "            output = net(d)       #llamar a nuestro objeto red con parámetros es introducirlos a la red\n",
        "            #print(\"o\", output)\n",
        "            #print(\"l\", label)\n",
        "            loss   = criterion(output, label) #calculamos el error de nuestro modelo\n",
        "            loss.backward()       #calculamos el gradiente del error y se almacena dentro del modelo\n",
        "            optimizer.step()      #usando los datos almacenados y el método seleccionado actualizamos los parámetros de la red\n",
        "\n",
        "            avg_loss = torch.cat([avg_loss, torch.Tensor([loss])],0)\n",
        "\n",
        "    tqdm_epochs.set_description(\"Loss %.6f\"%(avg_loss.sum()/avg_loss.numel()).item())"
      ]
    },
    {
      "cell_type": "markdown",
      "metadata": {
        "id": "xelgxu5V2rE4"
      },
      "source": [
        "Para nuestro ejemplo podemos tratar el problema de aprender la compuerta AND como un problema de regresión, para lo cual puedes usar la función de error min squared error (MSE), que se encuentra implementada como MSELoss().\n",
        "\n",
        "Además podemos utilizar descenso por el gradiente, que puedes encontrar en torch.optim.SGD. A este objeto necesitas\n",
        "pasarle como argumento los parámetros (pesos) del modelo a optimizar, lo cual puedes lograr con el método parameters() de los objetos que heredan de nn.Module; en el caso del descenso por el gradiente tambien debes especificar la taza de aprendizaje.\n",
        "\n",
        "Puedes ejecutar el entrenamiento sobre el modelo de 2 entradas y una única salida pasándolo como argumento al método train."
      ]
    },
    {
      "cell_type": "code",
      "execution_count": null,
      "metadata": {
        "colab": {
          "base_uri": "https://localhost:8080/",
          "height": 138,
          "referenced_widgets": [
            "0f598306327946d4aa19555fbac2fc42",
            "5879e1d765024338894eb76c078aeabd",
            "a9f3338db7cd48f6b8be4adbba3fc159",
            "f9710b74213342328d781a4e5d540271",
            "4c01c654193447cbb68270750dfa8daa",
            "e04764b48fb74f1483ca781a24587418",
            "61070db74d4d4fd9868e41c6d5ac6ca8",
            "9c78917591924ae2a0886a08ad47412b",
            "7251c38457c14e2fae50dbe7dc531c33",
            "90ce1f364f144754acac2decd12d26fd",
            "86264b41307f40d29672339588a29008"
          ]
        },
        "id": "WFkhWi2Lwp-A",
        "outputId": "448d1418-2100-4aa3-86f0-23bab92a4edb"
      },
      "outputs": [
        {
          "output_type": "stream",
          "name": "stderr",
          "text": [
            "<ipython-input-3-e4937a2a20dd>:7: TqdmDeprecationWarning: Please use `tqdm.notebook.trange` instead of `tqdm.tnrange`\n",
            "  tqdm_epochs = tnrange(epochs)\n"
          ]
        },
        {
          "output_type": "display_data",
          "data": {
            "text/plain": [
              "  0%|          | 0/10000 [00:00<?, ?it/s]"
            ],
            "application/vnd.jupyter.widget-view+json": {
              "version_major": 2,
              "version_minor": 0,
              "model_id": "0f598306327946d4aa19555fbac2fc42"
            }
          },
          "metadata": {}
        },
        {
          "output_type": "stream",
          "name": "stderr",
          "text": [
            "/usr/local/lib/python3.10/dist-packages/torch/nn/modules/loss.py:535: UserWarning: Using a target size (torch.Size([])) that is different to the input size (torch.Size([1])). This will likely lead to incorrect results due to broadcasting. Please ensure they have the same size.\n",
            "  return F.mse_loss(input, target, reduction=self.reduction)\n"
          ]
        }
      ],
      "source": [
        "# Entradas\n",
        "X_AND = torch.Tensor([[0,0],\n",
        "                 [0,1],\n",
        "                 [1,0],\n",
        "                 [1,1]])\n",
        "# Etiquetas\n",
        "Y_AND = torch.Tensor([0,0,0,1])\n",
        "\n",
        "Perceptron_AND = Perceptron(2,1)\n",
        "criterio  = nn.MSELoss()\n",
        "optimizer = torch.optim.SGD(Perceptron_AND.parameters(), lr=0.1)\n",
        "\n",
        "train(Perceptron_AND, 10000, X_AND, Y_AND, criterio, optimizer)\n",
        "#train(Perceptron_AND, 2, X_AND, Y_AND, criterio, optimizer)\n"
      ]
    },
    {
      "cell_type": "markdown",
      "metadata": {
        "id": "GJBFGm6A3-Aq"
      },
      "source": [
        "Ahora para realizar predicciones con el modelo obtenido unicamente debes pasar los datos como parámetro a la red, la cual ejecutará de manera automática el método forward.\n",
        "Dado que el problema fue modelado como regresión observarás que los primeros 3 valores son muy cercanos a 0 y el último tiene un valor muy cercano a 1."
      ]
    },
    {
      "cell_type": "code",
      "execution_count": null,
      "metadata": {
        "colab": {
          "base_uri": "https://localhost:8080/"
        },
        "id": "gT1IaZZ84HUw",
        "outputId": "2aa62f41-6a23-4e13-8f19-890524310930"
      },
      "outputs": [
        {
          "output_type": "stream",
          "name": "stdout",
          "text": [
            "tensor([[7.4595e-05],\n",
            "        [3.8147e-02],\n",
            "        [3.8160e-02],\n",
            "        [9.5473e-01]], grad_fn=<SigmoidBackward0>)\n"
          ]
        }
      ],
      "source": [
        "resultados = Perceptron_AND(X_AND)\n",
        "print(resultados)"
      ]
    },
    {
      "cell_type": "markdown",
      "metadata": {
        "id": "8Yv_M-M6-Oez"
      },
      "source": [
        "## Dos perceptrones en una capa\n",
        "\n",
        "Si quisiéramos resolverlo como un problema de clasificación debemos realizar dos cambios:\n",
        "\n",
        "*   Cambiar el formato de las etiquetas para que se encuentren en [one-hot](https://en.wikipedia.org/wiki/One-hot).  El primer perceptrón representará al 0 y el segundo, al 1.\n",
        "*   Usar una función de costo que evalúe el error de clasificación, como la entropía cruzada binaria, implementada en PyTorch como BCELoss()."
      ]
    },
    {
      "cell_type": "code",
      "execution_count": null,
      "metadata": {
        "colab": {
          "base_uri": "https://localhost:8080/",
          "height": 84,
          "referenced_widgets": [
            "73095f61ec5e4536b23acf28e21e23c9",
            "652c2ac495964036921e2ca11d846248",
            "55787a26ceff43519f2f0b64a2421e34",
            "a6afc224babc4c498c1666b1a128ad35",
            "8dc8dc01e0134b7e95bf2a384ac6e374",
            "7a15db5d6b8f434fa17968e10538df1c",
            "25bac06d715e4b0993e6061cb20d3042",
            "8079917e8b94485e8c1519bf17f9878e",
            "7181f3c8353e4944a348af1e6280b609",
            "f2fc3129e3f9406f9c0c380258344ac0",
            "278969c1aac04b7cad09f9585efa12be"
          ]
        },
        "id": "aX4fCyJr5OSl",
        "outputId": "4172e212-e93a-40bb-dbbe-49b75d09a6b1"
      },
      "outputs": [
        {
          "output_type": "stream",
          "name": "stderr",
          "text": [
            "<ipython-input-3-e4937a2a20dd>:7: TqdmDeprecationWarning: Please use `tqdm.notebook.trange` instead of `tqdm.tnrange`\n",
            "  tqdm_epochs = tnrange(epochs)\n"
          ]
        },
        {
          "output_type": "display_data",
          "data": {
            "text/plain": [
              "  0%|          | 0/50000 [00:00<?, ?it/s]"
            ],
            "application/vnd.jupyter.widget-view+json": {
              "version_major": 2,
              "version_minor": 0,
              "model_id": "73095f61ec5e4536b23acf28e21e23c9"
            }
          },
          "metadata": {}
        }
      ],
      "source": [
        "Y_one_hot = torch.Tensor([[1,0],[1,0],[1,0],[0,1]])\n",
        "Perceptron_AND_C = Perceptron(2,2)\n",
        "criterio_clasificacion =  nn.BCELoss()\n",
        "optimizer = torch.optim.SGD(Perceptron_AND_C.parameters(), lr=0.1)\n",
        "train(Perceptron_AND_C, 50000, X_AND, Y_one_hot, criterio_clasificacion, optimizer)"
      ]
    },
    {
      "cell_type": "markdown",
      "metadata": {
        "id": "fRm-caJH_MDP"
      },
      "source": [
        "Nota que el resultado será alimentado a la funcion Softmax para que puedas interpretar los resultados como probabilidades.  La salida con el valor más alto es la clase ganadora."
      ]
    },
    {
      "cell_type": "code",
      "execution_count": null,
      "metadata": {
        "colab": {
          "base_uri": "https://localhost:8080/"
        },
        "id": "uVLuPXEg68OB",
        "outputId": "3e6bb100-7746-47c9-c8ef-c92ac726b7f6"
      },
      "outputs": [
        {
          "output_type": "stream",
          "name": "stdout",
          "text": [
            "tensor([[0.2972, 0.1750],\n",
            "        [0.2966, 0.1753],\n",
            "        [0.2966, 0.1753],\n",
            "        [0.1096, 0.4743]], grad_fn=<SoftmaxBackward0>)\n"
          ]
        }
      ],
      "source": [
        "resultados_clasificacion = Perceptron_AND_C(X_AND)\n",
        "print(nn.functional.softmax(resultados_clasificacion,dim=0))"
      ]
    },
    {
      "cell_type": "markdown",
      "metadata": {
        "id": "vQmEcw0YpG9h"
      },
      "source": [
        "## Perceptrón multicapa\n",
        "\n",
        "### Ejercicio 1: XOR\n",
        "\n",
        "Haciendo uso de un perceptrón multicapa (MLP, por sus siglas en inglés) crea un modelo capaz de simular la compuerta logica XOR considerandolo un problema de regresión.\n",
        "\n",
        "Para esta tarea debes usar tres capas:\n",
        "* La capa de entrada (los valores de entrada a la compuerta)\n",
        "* Una capa oculta con 3 unidades\n",
        "* Una capa de salida con una unica neurona\n",
        "\n",
        "Deberas especificar una **taza de aprendizaje** adecuada así como el número de iteraciones necesario para lograr el aprendizaje."
      ]
    },
    {
      "cell_type": "code",
      "execution_count": null,
      "metadata": {
        "id": "RRC5XVB6UyJu"
      },
      "outputs": [],
      "source": [
        "X_XOR = torch.Tensor([[0,0],\n",
        "                      [0,1],\n",
        "                      [1,0],\n",
        "                      [1,1]])\n",
        "Y_XOR = torch.Tensor([0,1,1,0])"
      ]
    },
    {
      "cell_type": "code",
      "execution_count": null,
      "metadata": {
        "id": "ulVM8HcoVip5"
      },
      "outputs": [],
      "source": [
        "class XOR(nn.Module):\n",
        "    def __init__(self):\n",
        "        super(XOR,self).__init__()\n",
        "        ## TODO: crea aquí las capas oculta y de salida\n",
        "        self.fc1 = nn.Linear(in_features=2, out_features=3)\n",
        "        self.fc2 = nn.Linear(in_features=3,out_features=1)\n",
        "\n",
        "    def forward(self, inputX):\n",
        "        ## TODO: Evalúa la red\n",
        "        out_capa_fc1 = torch.sigmoid(self.fc1(inputX))\n",
        "        out_capa_fc2 = torch.sigmoid(self.fc2(out_capa_fc1))\n",
        "        return out_capa_fc2"
      ]
    },
    {
      "cell_type": "code",
      "execution_count": null,
      "metadata": {
        "colab": {
          "base_uri": "https://localhost:8080/",
          "height": 84,
          "referenced_widgets": [
            "2a686c0d3c5b4ec59ad7f4169ca1c356",
            "fb49901f52d54aeb846cebe85b9c8808",
            "1a207060bd964bc4990949c62f576ee0",
            "dc0fb8c64c684aaf93d6562394b06645",
            "96c33c560a724896b522b9e6cc94e7a9",
            "c71c8070702f431c906e10a4e0a7a55e",
            "07e5e72703f34cafaa3a16269474062c",
            "ddcce7b38e094f519b48d13bfcf334ff",
            "3eaec832350e4970bb381c4f4d8197d3",
            "c34227307b374256b18abb1422b51374",
            "0d97174f3e63497ca715d07b91d0b7a8"
          ]
        },
        "id": "uyDBhj6NwyIb",
        "outputId": "ac266030-be25-4fb3-ca87-49b9e126b0ca"
      },
      "outputs": [
        {
          "output_type": "stream",
          "name": "stderr",
          "text": [
            "<ipython-input-3-e4937a2a20dd>:7: TqdmDeprecationWarning: Please use `tqdm.notebook.trange` instead of `tqdm.tnrange`\n",
            "  tqdm_epochs = tnrange(epochs)\n"
          ]
        },
        {
          "output_type": "display_data",
          "data": {
            "text/plain": [
              "  0%|          | 0/10000 [00:00<?, ?it/s]"
            ],
            "application/vnd.jupyter.widget-view+json": {
              "version_major": 2,
              "version_minor": 0,
              "model_id": "2a686c0d3c5b4ec59ad7f4169ca1c356"
            }
          },
          "metadata": {}
        }
      ],
      "source": [
        "XORNet = XOR()\n",
        "#Escogemos la función de error para el modelo (entropia cruzada)\n",
        "criterio_ejercicio1   =  nn.MSELoss() #selecciona un criterio\n",
        "optimizer_ejercicio1  = torch.optim.SGD(XORNet.parameters(),lr=0.1)#selecciona un optimizador\n",
        "#ejecuta train descomentando y completando esta linea\n",
        "#train(XORNet,...)\n",
        "train(XORNet, 10000, X_XOR, Y_XOR, criterio_ejercicio1, optimizer_ejercicio1)"
      ]
    },
    {
      "cell_type": "code",
      "execution_count": null,
      "metadata": {
        "colab": {
          "base_uri": "https://localhost:8080/"
        },
        "id": "kIM-zX_5ycaG",
        "outputId": "8e9fd543-76a5-4cbc-e574-f138732c965d"
      },
      "outputs": [
        {
          "output_type": "stream",
          "name": "stdout",
          "text": [
            "tensor([[0.0286],\n",
            "        [0.9681],\n",
            "        [0.9686],\n",
            "        [0.0313]], grad_fn=<SigmoidBackward0>)\n"
          ]
        }
      ],
      "source": [
        "predicciones= XORNet(X_XOR)\n",
        "print(predicciones)"
      ]
    },
    {
      "cell_type": "markdown",
      "metadata": {
        "id": "59mYQEaUyPLo"
      },
      "source": [
        "### Ejercicio 2:\n",
        "\n",
        "Encuentra un modelo para clasificar los datos contenidos en Xs y Ys, para lo cual debes encontrar el numero de capas y neuronas adecuado, así como una taza de aprendizaje.\n",
        "\n",
        "HINT: Puedes utilizar [Playground.tensorflow](https://playground.tensorflow.org) para buscar gráficamente los modelos y al final implementarlos."
      ]
    },
    {
      "cell_type": "code",
      "execution_count": null,
      "metadata": {
        "id": "kGBvQYnn0KoZ"
      },
      "outputs": [],
      "source": [
        "def to_learn1(x,y):\n",
        "    return 1 if x * y >= 0 else -1;\n",
        "\n",
        "def asignar_color(clase):\n",
        "    if(clase==1):\n",
        "        return 'r'\n",
        "    elif(clase==-1):\n",
        "        return 'b'"
      ]
    },
    {
      "cell_type": "code",
      "execution_count": null,
      "metadata": {
        "id": "5pZNT-cOvEUW",
        "colab": {
          "base_uri": "https://localhost:8080/"
        },
        "outputId": "116de983-f952-4114-dc23-3722f8f7f67f"
      },
      "outputs": [
        {
          "output_type": "stream",
          "name": "stdout",
          "text": [
            "[-1.0831455894985211, -4.4703728011540145, 0.7364314103080858, -1.074172195561963, 4.160148016901546, -4.5095910352819315, -0.41190187004619894, 2.8881339501254644, -4.384783612102217, -0.02893911866108745, -4.607302502629271, -0.5208039434883007, -1.8117011178748, 4.13457862287154, 4.681441171062804, 1.3101831453885362, 2.844070362008665, -2.603235848954971, 4.291758587913552, 2.751137066050921, -2.1114085484367373, -4.258335986441844, -3.2222556586094733, -3.7722497167141524, 1.3922605379122377, -1.9896985794628952, -3.2754368832011815, 4.7619670914695575, -3.429369205325524, -3.6548007434657634, 0.5971398568604238, 4.655404346898507, 4.968774369296767, 0.8910663402715127, -1.3670019067309136, -3.381566956885295, -4.368636989191149, 3.529488522051464, -4.788387769983159, -3.320809888643521, -2.087117168082724, 1.5148414208369685, 3.5796272755577743, -2.8697043241980893, 4.808316135287063, -4.992908669283157, -1.7845956051099519, 1.2764305687433701, 2.8419985970147597, 0.2209804051515718]\n"
          ]
        }
      ],
      "source": [
        "Xs = [random.uniform(-5,5) for _ in range(0,50) ]\n",
        "Ys = [random.uniform(-5,5) for _ in range(0,50) ]\n",
        "Zs = [to_learn1(punto[0],punto[1]) for punto in zip(Xs,Ys)]\n",
        "Colores = [asignar_color(p) for p in Zs]\n",
        "print(Xs)\n",
        "# print(Ys)\n",
        "# print(Zs)\n",
        "# print(Colores)"
      ]
    },
    {
      "cell_type": "code",
      "execution_count": null,
      "metadata": {
        "colab": {
          "base_uri": "https://localhost:8080/",
          "height": 447
        },
        "id": "DSpedQNjwEtj",
        "outputId": "c4ad366c-515e-4731-cb97-97e4f3d8c5c0"
      },
      "outputs": [
        {
          "output_type": "execute_result",
          "data": {
            "text/plain": [
              "[]"
            ]
          },
          "metadata": {},
          "execution_count": 14
        },
        {
          "output_type": "display_data",
          "data": {
            "text/plain": [
              "<Figure size 640x480 with 1 Axes>"
            ],
            "image/png": "[encoded data removed]"
          },
          "metadata": {}
        }
      ],
      "source": [
        "plt.scatter(Xs,Ys,c=Colores)\n",
        "plt.plot()"
      ]
    },
    {
      "cell_type": "markdown",
      "source": [
        "Utilizando [Playground.tensorflow](https://playground.tensorflow.org)\n",
        "determinamos que un modelo de una neurona con una tasa de aprendizaje de 0.1 y 150 épocas el modelo clasifica de manera adecuada utilizando la función de activación tanh en vez de la función sigmoide.\n",
        "\n",
        "![ejercicio2](https://raw.githubusercontent.com/LuisSebs/imgs/main/escuela/inteligencia-artificial/practica09/1.png)"
      ],
      "metadata": {
        "id": "a7JlMgnXKVDg"
      }
    },
    {
      "cell_type": "code",
      "execution_count": null,
      "metadata": {
        "id": "kAoWZCypCo68"
      },
      "outputs": [],
      "source": [
        "#CREA EN ESTA CELDA EL MODELO PARA CLASIFICAR LOS DATOS PROPORCINADOS\n",
        "class EJERCICIO2(nn.Module):\n",
        "    def __init__(self):\n",
        "        super(EJERCICIO2, self).__init__()\n",
        "        # Ejercicio parecido al ejemplo 1\n",
        "        self.capa_oculta = nn.Linear(1,1)\n",
        "\n",
        "    def forward(self, inputX):\n",
        "        # Usamos tanh puesto que es la funcion de activacion\n",
        "        # visualizado en Playground.tensorflow\n",
        "        output = torch.tanh(self.capa_oculta(inputX))\n",
        "        return output\n"
      ]
    },
    {
      "cell_type": "code",
      "source": [
        "# Definimos los tensores a partir de numpy\n",
        "# Entrenamiento\n",
        "Xs_np = np.array([x * y for x, y in zip(Xs, Ys)]) # Arreglo de numpy x * y\n",
        "Xs_np = Xs_np.astype(np.float32) # Especificamos el tipo\n",
        "Xs_ = torch.from_numpy(Xs_np).clone().view(-1,1) # Tensor para Xs\n",
        "\n",
        "# Clases entrenamiento\n",
        "Ys_np = np.array(Zs)\n",
        "Ys_np = Ys_np.astype(np.float32) # Especificamos el tipo\n",
        "Ys_ = torch.from_numpy(Ys_np).clone().view(-1,1) # Tensor para Ys"
      ],
      "metadata": {
        "id": "UyaYB7OZIm1Y"
      },
      "execution_count": null,
      "outputs": []
    },
    {
      "cell_type": "code",
      "source": [
        "EJERCICIO2Net = EJERCICIO2()\n",
        "# Criterio\n",
        "criterio_ejercicio2 = nn.MSELoss()  # Utilizamos el criterio min square error\n",
        "# Optimizador\n",
        "optimizer_ejercicio2 = torch.optim.SGD(EJERCICIO2Net.parameters(), lr=0.1)\n",
        "# Entrenamiento\n",
        "train(EJERCICIO2Net, 150, Xs_, Ys_, criterio_ejercicio2, optimizer_ejercicio2)"
      ],
      "metadata": {
        "colab": {
          "base_uri": "https://localhost:8080/",
          "height": 84,
          "referenced_widgets": [
            "d628cecfee694ddda3ed169193f348eb",
            "98d630d5744a4676aee53b075220bf5d",
            "c432750c06c44e97a1fecda71e8e2c8f",
            "e18b3f912f1843b7a4194613cbc17dd0",
            "ac4880c6ad9f45f689e91f1283d1f2e2",
            "8aa6a6cc6954446e81c199c5e941717c",
            "2b91a46faa5540c4add22f90eec047e0",
            "bf9d19f65d2744c89b8acdcda2fb01f3",
            "385d3353bc5648bf82e0267c04250f4d",
            "4a1b9729300d4ad5bf62f2d8f3562bdc",
            "2d6f111d92184d1e8606affcc6059cde"
          ]
        },
        "id": "47ryb7fZI0K5",
        "outputId": "28e04c35-c1a8-47de-ecbc-d70f73915f87"
      },
      "execution_count": null,
      "outputs": [
        {
          "output_type": "stream",
          "name": "stderr",
          "text": [
            "<ipython-input-3-e4937a2a20dd>:7: TqdmDeprecationWarning: Please use `tqdm.notebook.trange` instead of `tqdm.tnrange`\n",
            "  tqdm_epochs = tnrange(epochs)\n"
          ]
        },
        {
          "output_type": "display_data",
          "data": {
            "text/plain": [
              "  0%|          | 0/150 [00:00<?, ?it/s]"
            ],
            "application/vnd.jupyter.widget-view+json": {
              "version_major": 2,
              "version_minor": 0,
              "model_id": "d628cecfee694ddda3ed169193f348eb"
            }
          },
          "metadata": {}
        }
      ]
    },
    {
      "cell_type": "code",
      "source": [
        "# Malla de visualizacion\n",
        "x_ = np.linspace(-5, 5, 100)\n",
        "y_ = np.linspace(-5, 5, 100)\n",
        "xx, yy = np.meshgrid(x_, y_)\n",
        "\n",
        "# Predicciones\n",
        "predictions = EJERCICIO2Net(torch.from_numpy(np.array(xx * yy).astype(np.float32)).clone().view(-1,1))\n",
        "predictions = predictions.detach().numpy().reshape(xx.shape)\n",
        "\n",
        "# Visualización de los resultados de entrenamiento\n",
        "plt.figure(figsize=(12, 5))\n",
        "plt.subplot(1, 2, 2)\n",
        "plt.scatter(Xs, Ys, c=Ys_, cmap='coolwarm', edgecolors='k', marker='o', linewidth=0.5)\n",
        "plt.contourf(xx, yy, predictions, levels=[-1, 0, 1], colors=('b', 'r'), alpha=0.3)\n",
        "plt.colorbar() # Barra de colores\n",
        "plt.show()"
      ],
      "metadata": {
        "colab": {
          "base_uri": "https://localhost:8080/",
          "height": 451
        },
        "id": "1mMXZpUWJCqb",
        "outputId": "4247a96c-43c9-4c37-c9be-9df43643db7a"
      },
      "execution_count": null,
      "outputs": [
        {
          "output_type": "display_data",
          "data": {
            "text/plain": [
              "<Figure size 1200x500 with 2 Axes>"
            ],
            "image/png": "[encoded data removed]"
          },
          "metadata": {}
        }
      ]
    },
    {
      "cell_type": "markdown",
      "metadata": {
        "id": "z2zA-PrEz-rL"
      },
      "source": [
        "\n",
        "\n",
        "\n",
        "### Ejercicio 3:\n",
        "\n",
        "Encuentra un modelo para clasificar los datos contenidos en X2s y Y2s, para lo cual debes encontrar el numero de capas y neuronas adecuado, así como una taza de aprendizaje."
      ]
    },
    {
      "cell_type": "code",
      "execution_count": null,
      "metadata": {
        "id": "fdNdIRCN0AEo"
      },
      "outputs": [],
      "source": [
        "def to_learn2(deltaT,label):\n",
        "    n=100\n",
        "    Xs = []\n",
        "    Ys = []\n",
        "    Cs = [label]*n\n",
        "    for i in range(0,n):\n",
        "        r = i / n * 20;\n",
        "        t = 1.3 * i / n * 2 * math.pi + deltaT;\n",
        "        x = r * math.sin(t) + random.uniform(-1, 1);\n",
        "        y = r * math.cos(t) + random.uniform(-1, 1);\n",
        "        Xs.append(x)\n",
        "        Ys.append(y)\n",
        "    return Xs,Ys,Cs\n",
        "\n",
        "def create_data():\n",
        "    x1,y1,cs1 = to_learn2(0,-1)\n",
        "    x2,y2,cs2 = to_learn2(math.pi,1)\n",
        "    x1.extend(x2)\n",
        "    y1.extend(y2)\n",
        "    cs1.extend(cs2)\n",
        "    colores=[asignar_color(p) for p in cs1]\n",
        "    return x1,y1,cs1,colores\n",
        "\n",
        "X2s, Y2s,clases,colores= create_data()"
      ]
    },
    {
      "cell_type": "code",
      "execution_count": null,
      "metadata": {
        "colab": {
          "base_uri": "https://localhost:8080/",
          "height": 447
        },
        "id": "YNgohSTL18dx",
        "outputId": "8a0518be-4aa9-4196-e686-e396ebb530a9"
      },
      "outputs": [
        {
          "output_type": "execute_result",
          "data": {
            "text/plain": [
              "[]"
            ]
          },
          "metadata": {},
          "execution_count": 20
        },
        {
          "output_type": "display_data",
          "data": {
            "text/plain": [
              "<Figure size 640x480 with 1 Axes>"
            ],
            "image/png": "[encoded data removed]"
          },
          "metadata": {}
        }
      ],
      "source": [
        "plt.scatter(X2s, Y2s, c=colores)\n",
        "plt.plot()"
      ]
    },
    {
      "cell_type": "markdown",
      "source": [
        "Usando la herramiento de [Playground.tensorflow](https://playground.tensorflow.org) el modelo resultante para clasificar este ejercicio es el siguiente:\n",
        "\n",
        "![ejercicio2](https://raw.githubusercontent.com/LuisSebs/imgs/main/escuela/inteligencia-artificial/practica09/2.png)\n",
        "\n",
        "Notemos que se usa la función de activación Tanh, con una capa oculta de 8 neuronas y 4 entradas. X, Y, sin(X) y sin(Y). Para realizar esto podemos aplicar las funciones necesarias a cada X, Y para después usar **zip** para pegar cada entrada de los vectores en uno solo.\n"
      ],
      "metadata": {
        "id": "wF-9gkvrwiRm"
      }
    },
    {
      "cell_type": "code",
      "execution_count": null,
      "metadata": {
        "id": "l0Ch5Yp9Cj1G"
      },
      "outputs": [],
      "source": [
        "# Definición del Modelo\n",
        "class EJERCICIO3(nn.Module):\n",
        "    def __init__(self):\n",
        "        super(EJERCICIO3, self).__init__()\n",
        "        self.hidden_layer = nn.Linear(4, 100)\n",
        "        self.output_layer = nn.Linear(100, 1)\n",
        "\n",
        "    def forward(self, inputX):\n",
        "        hidden_output = torch.tanh(self.hidden_layer(inputX))\n",
        "        output = torch.tanh(self.output_layer(hidden_output))\n",
        "        return output"
      ]
    },
    {
      "cell_type": "code",
      "source": [
        "# Tensores\n",
        "X2s_sin = np.sin(X2s)\n",
        "Y2s_sin = np.sin(Y2s)\n",
        "X2s_ = torch.tensor(list(zip(X2s, Y2s, X2s_sin, Y2s_sin)),dtype=torch.float32)\n",
        "Y2s_ = torch.tensor(clases, dtype=torch.float32).view(-1, 1)"
      ],
      "metadata": {
        "id": "fl72JX_eQD7s"
      },
      "execution_count": null,
      "outputs": []
    },
    {
      "cell_type": "code",
      "source": [
        "# Iniciación del Modelo\n",
        "EJERCICIO3Net = EJERCICIO3()\n",
        "\n",
        "criterio_ejercicio3 = nn.L1Loss()  # Mean Absolute Error\n",
        "optimizer_ejercicio3 = torch.optim.SGD(EJERCICIO3Net.parameters(), lr=0.01)\n",
        "\n",
        "# Entrenamiento\n",
        "train(EJERCICIO3Net, 1000, X2s_, Y2s_, criterio_ejercicio3, optimizer_ejercicio3)\n",
        "\n",
        "# Se entrenó previamente un modelo y el resultado fue bueno,\n",
        "# así que se decidio guardar los parametros del modelo. Si\n",
        "# estas ejecutando este cuaderno desde vsc o un editor de código,\n",
        "# puedes descomentar la linea de abajo (siempre y cuando a la misma altura\n",
        "# de este cuaderno se encuentre el archivo model_parameters.pth).\n",
        "# EJERCICIO3Net.load_state_dict(torch.load(\"model_parameters.pth\"))"
      ],
      "metadata": {
        "colab": {
          "base_uri": "https://localhost:8080/",
          "height": 84,
          "referenced_widgets": [
            "bad8c2b9d3d7415ab24dcbf5f9d5ee24",
            "cb097252b1314d23bca05a7aa8914c9f",
            "efe86422db074316a6b085fa670cb192",
            "a638bb0277af4e669c18f8ed9eabce7a",
            "8b2a55f312604700a7deb12724fd4e99",
            "b20629e1f9d24f1a8a672384fc619074",
            "dc0c3ada78bc48d3bf69be8c64354fa9",
            "9ac21f3f8a82470989a3dce1f671733a",
            "85c332d3c4754cd88e6dc0ae52bc66fe",
            "a54090d5ba114cb28ab52f43f97e1b1f",
            "01b27a3b68b44c69b740faa512e811f8"
          ]
        },
        "id": "k4QSnovvQtKU",
        "outputId": "72fdb5b4-1fdd-491d-e88b-b39bcbf64dda"
      },
      "execution_count": null,
      "outputs": [
        {
          "output_type": "stream",
          "name": "stderr",
          "text": [
            "<ipython-input-3-e4937a2a20dd>:7: TqdmDeprecationWarning: Please use `tqdm.notebook.trange` instead of `tqdm.tnrange`\n",
            "  tqdm_epochs = tnrange(epochs)\n"
          ]
        },
        {
          "output_type": "display_data",
          "data": {
            "text/plain": [
              "  0%|          | 0/1000 [00:00<?, ?it/s]"
            ],
            "application/vnd.jupyter.widget-view+json": {
              "version_major": 2,
              "version_minor": 0,
              "model_id": "bad8c2b9d3d7415ab24dcbf5f9d5ee24"
            }
          },
          "metadata": {}
        }
      ]
    },
    {
      "cell_type": "code",
      "source": [
        "# Agradecimientos especiales a chatGPT por ayudarme\n",
        "# a definir este codigo para graficar los resultados\n",
        "\n",
        "# Malla de puntos\n",
        "x2_range = np.linspace(-25, 25, 200)\n",
        "y2_range = np.linspace(-20, 20, 200)\n",
        "x2s, y2s = np.meshgrid(x2_range, y2_range)\n",
        "\n",
        "# Tensores\n",
        "x2s_tensor = torch.tensor(x2s, dtype=torch.float32)\n",
        "y2s_tensor = torch.tensor(y2s, dtype=torch.float32)\n",
        "\n",
        "# Predicciones\n",
        "malla_tensor = torch.cat((x2s_tensor.view(-1, 1), y2s_tensor.view(-1, 1),\n",
        "                          torch.sin(x2s_tensor.view(-1, 1)),\n",
        "                          torch.sin(y2s_tensor.view(-1, 1))), dim=1)\n",
        "predictions = EJERCICIO3Net(malla_tensor).view(x2s.shape).detach().numpy()\n",
        "\n",
        "# Visualizar los resultados\n",
        "plt.figure(figsize=(10, 6))\n",
        "\n",
        "# Visualización de los datos de entrenamiento\n",
        "plt.subplot(1, 2, 1)\n",
        "plt.scatter(X2s, Y2s, c=colores)\n",
        "plt.title(\"Datos de Entrenamiento\")\n",
        "\n",
        "# Visualización de los datos clasificados por el Modelo\n",
        "plt.subplot(1, 2, 2)\n",
        "plt.contourf(x2_range, y2_range, predictions, levels=1, cmap='coolwarm', alpha=0.2)\n",
        "plt.scatter(X2s, Y2s, c=colores)\n",
        "plt.xlabel(\"Característica 1\")\n",
        "plt.ylabel(\"Característica 2\")\n",
        "plt.title(\"Clasificación dada por el Modelo EJERCICIO3\")\n",
        "plt.colorbar()\n",
        "\n",
        "plt.show()"
      ],
      "metadata": {
        "colab": {
          "base_uri": "https://localhost:8080/",
          "height": 565
        },
        "id": "GZbZ4BQURz0k",
        "outputId": "ebfd8b73-26da-4eba-e71b-289acf15d7f1"
      },
      "execution_count": null,
      "outputs": [
        {
          "output_type": "display_data",
          "data": {
            "text/plain": [
              "<Figure size 1000x600 with 3 Axes>"
            ],
            "image/png": "[encoded data removed]"
          },
          "metadata": {}
        }
      ]
    },
    {
      "cell_type": "markdown",
      "source": [
        "El resultado obtenido después del entrenamiento es el siguiente:\n",
        "\n",
        "![ejercicio3](https://raw.githubusercontent.com/LuisSebs/imgs/main/escuela/inteligencia-artificial/practica09/3.jpeg)"
      ],
      "metadata": {
        "id": "_65fLlKS14fQ"
      }
    }
  ],
  "metadata": {
    "colab": {
      "provenance": []
    },
    "kernelspec": {
      "display_name": "Python 3.10.12 64-bit",
      "language": "python",
      "name": "python3"
    },
    "language_info": {
      "codemirror_mode": {
        "name": "ipython",
        "version": 3
      },
      "file_extension": ".py",
      "mimetype": "text/x-python",
      "name": "python",
      "nbconvert_exporter": "python",
      "pygments_lexer": "ipython3",
      "version": "3.10.12"
    },
    "vscode": {
      "interpreter": {
        "hash": "916dbcbb3f70747c44a77c7bcd40155683ae19c65e1c03b4aa3499c5328201f1"
      }
    },
    "widgets": {
      "application/vnd.jupyter.widget-state+json": {
        "0f598306327946d4aa19555fbac2fc42": {
          "model_module": "@jupyter-widgets/controls",
          "model_name": "HBoxModel",
          "model_module_version": "1.5.0",
          "state": {
            "_dom_classes": [],
            "_model_module": "@jupyter-widgets/controls",
            "_model_module_version": "1.5.0",
            "_model_name": "HBoxModel",
            "_view_count": null,
            "_view_module": "@jupyter-widgets/controls",
            "_view_module_version": "1.5.0",
            "_view_name": "HBoxView",
            "box_style": "",
            "children": [
              "IPY_MODEL_5879e1d765024338894eb76c078aeabd",
              "IPY_MODEL_a9f3338db7cd48f6b8be4adbba3fc159",
              "IPY_MODEL_f9710b74213342328d781a4e5d540271"
            ],
            "layout": "IPY_MODEL_4c01c654193447cbb68270750dfa8daa"
          }
        },
        "5879e1d765024338894eb76c078aeabd": {
          "model_module": "@jupyter-widgets/controls",
          "model_name": "HTMLModel",
          "model_module_version": "1.5.0",
          "state": {
            "_dom_classes": [],
            "_model_module": "@jupyter-widgets/controls",
            "_model_module_version": "1.5.0",
            "_model_name": "HTMLModel",
            "_view_count": null,
            "_view_module": "@jupyter-widgets/controls",
            "_view_module_version": "1.5.0",
            "_view_name": "HTMLView",
            "description": "",
            "description_tooltip": null,
            "layout": "IPY_MODEL_e04764b48fb74f1483ca781a24587418",
            "placeholder": "​",
            "style": "IPY_MODEL_61070db74d4d4fd9868e41c6d5ac6ca8",
            "value": "100%"
          }
        },
        "a9f3338db7cd48f6b8be4adbba3fc159": {
          "model_module": "@jupyter-widgets/controls",
          "model_name": "FloatProgressModel",
          "model_module_version": "1.5.0",
          "state": {
            "_dom_classes": [],
            "_model_module": "@jupyter-widgets/controls",
            "_model_module_version": "1.5.0",
            "_model_name": "FloatProgressModel",
            "_view_count": null,
            "_view_module": "@jupyter-widgets/controls",
            "_view_module_version": "1.5.0",
            "_view_name": "ProgressView",
            "bar_style": "success",
            "description": "",
            "description_tooltip": null,
            "layout": "IPY_MODEL_9c78917591924ae2a0886a08ad47412b",
            "max": 10000,
            "min": 0,
            "orientation": "horizontal",
            "style": "IPY_MODEL_7251c38457c14e2fae50dbe7dc531c33",
            "value": 10000
          }
        },
        "f9710b74213342328d781a4e5d540271": {
          "model_module": "@jupyter-widgets/controls",
          "model_name": "HTMLModel",
          "model_module_version": "1.5.0",
          "state": {
            "_dom_classes": [],
            "_model_module": "@jupyter-widgets/controls",
            "_model_module_version": "1.5.0",
            "_model_name": "HTMLModel",
            "_view_count": null,
            "_view_module": "@jupyter-widgets/controls",
            "_view_module_version": "1.5.0",
            "_view_name": "HTMLView",
            "description": "",
            "description_tooltip": null,
            "layout": "IPY_MODEL_90ce1f364f144754acac2decd12d26fd",
            "placeholder": "​",
            "style": "IPY_MODEL_86264b41307f40d29672339588a29008",
            "value": " 10000/10000 [00:33&lt;00:00, 440.66it/s]"
          }
        },
        "4c01c654193447cbb68270750dfa8daa": {
          "model_module": "@jupyter-widgets/base",
          "model_name": "LayoutModel",
          "model_module_version": "1.2.0",
          "state": {
            "_model_module": "@jupyter-widgets/base",
            "_model_module_version": "1.2.0",
            "_model_name": "LayoutModel",
            "_view_count": null,
            "_view_module": "@jupyter-widgets/base",
            "_view_module_version": "1.2.0",
            "_view_name": "LayoutView",
            "align_content": null,
            "align_items": null,
            "align_self": null,
            "border": null,
            "bottom": null,
            "display": null,
            "flex": null,
            "flex_flow": null,
            "grid_area": null,
            "grid_auto_columns": null,
            "grid_auto_flow": null,
            "grid_auto_rows": null,
            "grid_column": null,
            "grid_gap": null,
            "grid_row": null,
            "grid_template_areas": null,
            "grid_template_columns": null,
            "grid_template_rows": null,
            "height": null,
            "justify_content": null,
            "justify_items": null,
            "left": null,
            "margin": null,
            "max_height": null,
            "max_width": null,
            "min_height": null,
            "min_width": null,
            "object_fit": null,
            "object_position": null,
            "order": null,
            "overflow": null,
            "overflow_x": null,
            "overflow_y": null,
            "padding": null,
            "right": null,
            "top": null,
            "visibility": null,
            "width": null
          }
        },
        "e04764b48fb74f1483ca781a24587418": {
          "model_module": "@jupyter-widgets/base",
          "model_name": "LayoutModel",
          "model_module_version": "1.2.0",
          "state": {
            "_model_module": "@jupyter-widgets/base",
            "_model_module_version": "1.2.0",
            "_model_name": "LayoutModel",
            "_view_count": null,
            "_view_module": "@jupyter-widgets/base",
            "_view_module_version": "1.2.0",
            "_view_name": "LayoutView",
            "align_content": null,
            "align_items": null,
            "align_self": null,
            "border": null,
            "bottom": null,
            "display": null,
            "flex": null,
            "flex_flow": null,
            "grid_area": null,
            "grid_auto_columns": null,
            "grid_auto_flow": null,
            "grid_auto_rows": null,
            "grid_column": null,
            "grid_gap": null,
            "grid_row": null,
            "grid_template_areas": null,
            "grid_template_columns": null,
            "grid_template_rows": null,
            "height": null,
            "justify_content": null,
            "justify_items": null,
            "left": null,
            "margin": null,
            "max_height": null,
            "max_width": null,
            "min_height": null,
            "min_width": null,
            "object_fit": null,
            "object_position": null,
            "order": null,
            "overflow": null,
            "overflow_x": null,
            "overflow_y": null,
            "padding": null,
            "right": null,
            "top": null,
            "visibility": null,
            "width": null
          }
        },
        "61070db74d4d4fd9868e41c6d5ac6ca8": {
          "model_module": "@jupyter-widgets/controls",
          "model_name": "DescriptionStyleModel",
          "model_module_version": "1.5.0",
          "state": {
            "_model_module": "@jupyter-widgets/controls",
            "_model_module_version": "1.5.0",
            "_model_name": "DescriptionStyleModel",
            "_view_count": null,
            "_view_module": "@jupyter-widgets/base",
            "_view_module_version": "1.2.0",
            "_view_name": "StyleView",
            "description_width": ""
          }
        },
        "9c78917591924ae2a0886a08ad47412b": {
          "model_module": "@jupyter-widgets/base",
          "model_name": "LayoutModel",
          "model_module_version": "1.2.0",
          "state": {
            "_model_module": "@jupyter-widgets/base",
            "_model_module_version": "1.2.0",
            "_model_name": "LayoutModel",
            "_view_count": null,
            "_view_module": "@jupyter-widgets/base",
            "_view_module_version": "1.2.0",
            "_view_name": "LayoutView",
            "align_content": null,
            "align_items": null,
            "align_self": null,
            "border": null,
            "bottom": null,
            "display": null,
            "flex": null,
            "flex_flow": null,
            "grid_area": null,
            "grid_auto_columns": null,
            "grid_auto_flow": null,
            "grid_auto_rows": null,
            "grid_column": null,
            "grid_gap": null,
            "grid_row": null,
            "grid_template_areas": null,
            "grid_template_columns": null,
            "grid_template_rows": null,
            "height": null,
            "justify_content": null,
            "justify_items": null,
            "left": null,
            "margin": null,
            "max_height": null,
            "max_width": null,
            "min_height": null,
            "min_width": null,
            "object_fit": null,
            "object_position": null,
            "order": null,
            "overflow": null,
            "overflow_x": null,
            "overflow_y": null,
            "padding": null,
            "right": null,
            "top": null,
            "visibility": null,
            "width": null
          }
        },
        "7251c38457c14e2fae50dbe7dc531c33": {
          "model_module": "@jupyter-widgets/controls",
          "model_name": "ProgressStyleModel",
          "model_module_version": "1.5.0",
          "state": {
            "_model_module": "@jupyter-widgets/controls",
            "_model_module_version": "1.5.0",
            "_model_name": "ProgressStyleModel",
            "_view_count": null,
            "_view_module": "@jupyter-widgets/base",
            "_view_module_version": "1.2.0",
            "_view_name": "StyleView",
            "bar_color": null,
            "description_width": ""
          }
        },
        "90ce1f364f144754acac2decd12d26fd": {
          "model_module": "@jupyter-widgets/base",
          "model_name": "LayoutModel",
          "model_module_version": "1.2.0",
          "state": {
            "_model_module": "@jupyter-widgets/base",
            "_model_module_version": "1.2.0",
            "_model_name": "LayoutModel",
            "_view_count": null,
            "_view_module": "@jupyter-widgets/base",
            "_view_module_version": "1.2.0",
            "_view_name": "LayoutView",
            "align_content": null,
            "align_items": null,
            "align_self": null,
            "border": null,
            "bottom": null,
            "display": null,
            "flex": null,
            "flex_flow": null,
            "grid_area": null,
            "grid_auto_columns": null,
            "grid_auto_flow": null,
            "grid_auto_rows": null,
            "grid_column": null,
            "grid_gap": null,
            "grid_row": null,
            "grid_template_areas": null,
            "grid_template_columns": null,
            "grid_template_rows": null,
            "height": null,
            "justify_content": null,
            "justify_items": null,
            "left": null,
            "margin": null,
            "max_height": null,
            "max_width": null,
            "min_height": null,
            "min_width": null,
            "object_fit": null,
            "object_position": null,
            "order": null,
            "overflow": null,
            "overflow_x": null,
            "overflow_y": null,
            "padding": null,
            "right": null,
            "top": null,
            "visibility": null,
            "width": null
          }
        },
        "86264b41307f40d29672339588a29008": {
          "model_module": "@jupyter-widgets/controls",
          "model_name": "DescriptionStyleModel",
          "model_module_version": "1.5.0",
          "state": {
            "_model_module": "@jupyter-widgets/controls",
            "_model_module_version": "1.5.0",
            "_model_name": "DescriptionStyleModel",
            "_view_count": null,
            "_view_module": "@jupyter-widgets/base",
            "_view_module_version": "1.2.0",
            "_view_name": "StyleView",
            "description_width": ""
          }
        },
        "73095f61ec5e4536b23acf28e21e23c9": {
          "model_module": "@jupyter-widgets/controls",
          "model_name": "HBoxModel",
          "model_module_version": "1.5.0",
          "state": {
            "_dom_classes": [],
            "_model_module": "@jupyter-widgets/controls",
            "_model_module_version": "1.5.0",
            "_model_name": "HBoxModel",
            "_view_count": null,
            "_view_module": "@jupyter-widgets/controls",
            "_view_module_version": "1.5.0",
            "_view_name": "HBoxView",
            "box_style": "",
            "children": [
              "IPY_MODEL_652c2ac495964036921e2ca11d846248",
              "IPY_MODEL_55787a26ceff43519f2f0b64a2421e34",
              "IPY_MODEL_a6afc224babc4c498c1666b1a128ad35"
            ],
            "layout": "IPY_MODEL_8dc8dc01e0134b7e95bf2a384ac6e374"
          }
        },
        "652c2ac495964036921e2ca11d846248": {
          "model_module": "@jupyter-widgets/controls",
          "model_name": "HTMLModel",
          "model_module_version": "1.5.0",
          "state": {
            "_dom_classes": [],
            "_model_module": "@jupyter-widgets/controls",
            "_model_module_version": "1.5.0",
            "_model_name": "HTMLModel",
            "_view_count": null,
            "_view_module": "@jupyter-widgets/controls",
            "_view_module_version": "1.5.0",
            "_view_name": "HTMLView",
            "description": "",
            "description_tooltip": null,
            "layout": "IPY_MODEL_7a15db5d6b8f434fa17968e10538df1c",
            "placeholder": "​",
            "style": "IPY_MODEL_25bac06d715e4b0993e6061cb20d3042",
            "value": "100%"
          }
        },
        "55787a26ceff43519f2f0b64a2421e34": {
          "model_module": "@jupyter-widgets/controls",
          "model_name": "FloatProgressModel",
          "model_module_version": "1.5.0",
          "state": {
            "_dom_classes": [],
            "_model_module": "@jupyter-widgets/controls",
            "_model_module_version": "1.5.0",
            "_model_name": "FloatProgressModel",
            "_view_count": null,
            "_view_module": "@jupyter-widgets/controls",
            "_view_module_version": "1.5.0",
            "_view_name": "ProgressView",
            "bar_style": "success",
            "description": "",
            "description_tooltip": null,
            "layout": "IPY_MODEL_8079917e8b94485e8c1519bf17f9878e",
            "max": 50000,
            "min": 0,
            "orientation": "horizontal",
            "style": "IPY_MODEL_7181f3c8353e4944a348af1e6280b609",
            "value": 50000
          }
        },
        "a6afc224babc4c498c1666b1a128ad35": {
          "model_module": "@jupyter-widgets/controls",
          "model_name": "HTMLModel",
          "model_module_version": "1.5.0",
          "state": {
            "_dom_classes": [],
            "_model_module": "@jupyter-widgets/controls",
            "_model_module_version": "1.5.0",
            "_model_name": "HTMLModel",
            "_view_count": null,
            "_view_module": "@jupyter-widgets/controls",
            "_view_module_version": "1.5.0",
            "_view_name": "HTMLView",
            "description": "",
            "description_tooltip": null,
            "layout": "IPY_MODEL_f2fc3129e3f9406f9c0c380258344ac0",
            "placeholder": "​",
            "style": "IPY_MODEL_278969c1aac04b7cad09f9585efa12be",
            "value": " 50000/50000 [02:09&lt;00:00, 285.12it/s]"
          }
        },
        "8dc8dc01e0134b7e95bf2a384ac6e374": {
          "model_module": "@jupyter-widgets/base",
          "model_name": "LayoutModel",
          "model_module_version": "1.2.0",
          "state": {
            "_model_module": "@jupyter-widgets/base",
            "_model_module_version": "1.2.0",
            "_model_name": "LayoutModel",
            "_view_count": null,
            "_view_module": "@jupyter-widgets/base",
            "_view_module_version": "1.2.0",
            "_view_name": "LayoutView",
            "align_content": null,
            "align_items": null,
            "align_self": null,
            "border": null,
            "bottom": null,
            "display": null,
            "flex": null,
            "flex_flow": null,
            "grid_area": null,
            "grid_auto_columns": null,
            "grid_auto_flow": null,
            "grid_auto_rows": null,
            "grid_column": null,
            "grid_gap": null,
            "grid_row": null,
            "grid_template_areas": null,
            "grid_template_columns": null,
            "grid_template_rows": null,
            "height": null,
            "justify_content": null,
            "justify_items": null,
            "left": null,
            "margin": null,
            "max_height": null,
            "max_width": null,
            "min_height": null,
            "min_width": null,
            "object_fit": null,
            "object_position": null,
            "order": null,
            "overflow": null,
            "overflow_x": null,
            "overflow_y": null,
            "padding": null,
            "right": null,
            "top": null,
            "visibility": null,
            "width": null
          }
        },
        "7a15db5d6b8f434fa17968e10538df1c": {
          "model_module": "@jupyter-widgets/base",
          "model_name": "LayoutModel",
          "model_module_version": "1.2.0",
          "state": {
            "_model_module": "@jupyter-widgets/base",
            "_model_module_version": "1.2.0",
            "_model_name": "LayoutModel",
            "_view_count": null,
            "_view_module": "@jupyter-widgets/base",
            "_view_module_version": "1.2.0",
            "_view_name": "LayoutView",
            "align_content": null,
            "align_items": null,
            "align_self": null,
            "border": null,
            "bottom": null,
            "display": null,
            "flex": null,
            "flex_flow": null,
            "grid_area": null,
            "grid_auto_columns": null,
            "grid_auto_flow": null,
            "grid_auto_rows": null,
            "grid_column": null,
            "grid_gap": null,
            "grid_row": null,
            "grid_template_areas": null,
            "grid_template_columns": null,
            "grid_template_rows": null,
            "height": null,
            "justify_content": null,
            "justify_items": null,
            "left": null,
            "margin": null,
            "max_height": null,
            "max_width": null,
            "min_height": null,
            "min_width": null,
            "object_fit": null,
            "object_position": null,
            "order": null,
            "overflow": null,
            "overflow_x": null,
            "overflow_y": null,
            "padding": null,
            "right": null,
            "top": null,
            "visibility": null,
            "width": null
          }
        },
        "25bac06d715e4b0993e6061cb20d3042": {
          "model_module": "@jupyter-widgets/controls",
          "model_name": "DescriptionStyleModel",
          "model_module_version": "1.5.0",
          "state": {
            "_model_module": "@jupyter-widgets/controls",
            "_model_module_version": "1.5.0",
            "_model_name": "DescriptionStyleModel",
            "_view_count": null,
            "_view_module": "@jupyter-widgets/base",
            "_view_module_version": "1.2.0",
            "_view_name": "StyleView",
            "description_width": ""
          }
        },
        "8079917e8b94485e8c1519bf17f9878e": {
          "model_module": "@jupyter-widgets/base",
          "model_name": "LayoutModel",
          "model_module_version": "1.2.0",
          "state": {
            "_model_module": "@jupyter-widgets/base",
            "_model_module_version": "1.2.0",
            "_model_name": "LayoutModel",
            "_view_count": null,
            "_view_module": "@jupyter-widgets/base",
            "_view_module_version": "1.2.0",
            "_view_name": "LayoutView",
            "align_content": null,
            "align_items": null,
            "align_self": null,
            "border": null,
            "bottom": null,
            "display": null,
            "flex": null,
            "flex_flow": null,
            "grid_area": null,
            "grid_auto_columns": null,
            "grid_auto_flow": null,
            "grid_auto_rows": null,
            "grid_column": null,
            "grid_gap": null,
            "grid_row": null,
            "grid_template_areas": null,
            "grid_template_columns": null,
            "grid_template_rows": null,
            "height": null,
            "justify_content": null,
            "justify_items": null,
            "left": null,
            "margin": null,
            "max_height": null,
            "max_width": null,
            "min_height": null,
            "min_width": null,
            "object_fit": null,
            "object_position": null,
            "order": null,
            "overflow": null,
            "overflow_x": null,
            "overflow_y": null,
            "padding": null,
            "right": null,
            "top": null,
            "visibility": null,
            "width": null
          }
        },
        "7181f3c8353e4944a348af1e6280b609": {
          "model_module": "@jupyter-widgets/controls",
          "model_name": "ProgressStyleModel",
          "model_module_version": "1.5.0",
          "state": {
            "_model_module": "@jupyter-widgets/controls",
            "_model_module_version": "1.5.0",
            "_model_name": "ProgressStyleModel",
            "_view_count": null,
            "_view_module": "@jupyter-widgets/base",
            "_view_module_version": "1.2.0",
            "_view_name": "StyleView",
            "bar_color": null,
            "description_width": ""
          }
        },
        "f2fc3129e3f9406f9c0c380258344ac0": {
          "model_module": "@jupyter-widgets/base",
          "model_name": "LayoutModel",
          "model_module_version": "1.2.0",
          "state": {
            "_model_module": "@jupyter-widgets/base",
            "_model_module_version": "1.2.0",
            "_model_name": "LayoutModel",
            "_view_count": null,
            "_view_module": "@jupyter-widgets/base",
            "_view_module_version": "1.2.0",
            "_view_name": "LayoutView",
            "align_content": null,
            "align_items": null,
            "align_self": null,
            "border": null,
            "bottom": null,
            "display": null,
            "flex": null,
            "flex_flow": null,
            "grid_area": null,
            "grid_auto_columns": null,
            "grid_auto_flow": null,
            "grid_auto_rows": null,
            "grid_column": null,
            "grid_gap": null,
            "grid_row": null,
            "grid_template_areas": null,
            "grid_template_columns": null,
            "grid_template_rows": null,
            "height": null,
            "justify_content": null,
            "justify_items": null,
            "left": null,
            "margin": null,
            "max_height": null,
            "max_width": null,
            "min_height": null,
            "min_width": null,
            "object_fit": null,
            "object_position": null,
            "order": null,
            "overflow": null,
            "overflow_x": null,
            "overflow_y": null,
            "padding": null,
            "right": null,
            "top": null,
            "visibility": null,
            "width": null
          }
        },
        "278969c1aac04b7cad09f9585efa12be": {
          "model_module": "@jupyter-widgets/controls",
          "model_name": "DescriptionStyleModel",
          "model_module_version": "1.5.0",
          "state": {
            "_model_module": "@jupyter-widgets/controls",
            "_model_module_version": "1.5.0",
            "_model_name": "DescriptionStyleModel",
            "_view_count": null,
            "_view_module": "@jupyter-widgets/base",
            "_view_module_version": "1.2.0",
            "_view_name": "StyleView",
            "description_width": ""
          }
        },
        "2a686c0d3c5b4ec59ad7f4169ca1c356": {
          "model_module": "@jupyter-widgets/controls",
          "model_name": "HBoxModel",
          "model_module_version": "1.5.0",
          "state": {
            "_dom_classes": [],
            "_model_module": "@jupyter-widgets/controls",
            "_model_module_version": "1.5.0",
            "_model_name": "HBoxModel",
            "_view_count": null,
            "_view_module": "@jupyter-widgets/controls",
            "_view_module_version": "1.5.0",
            "_view_name": "HBoxView",
            "box_style": "",
            "children": [
              "IPY_MODEL_fb49901f52d54aeb846cebe85b9c8808",
              "IPY_MODEL_1a207060bd964bc4990949c62f576ee0",
              "IPY_MODEL_dc0fb8c64c684aaf93d6562394b06645"
            ],
            "layout": "IPY_MODEL_96c33c560a724896b522b9e6cc94e7a9"
          }
        },
        "fb49901f52d54aeb846cebe85b9c8808": {
          "model_module": "@jupyter-widgets/controls",
          "model_name": "HTMLModel",
          "model_module_version": "1.5.0",
          "state": {
            "_dom_classes": [],
            "_model_module": "@jupyter-widgets/controls",
            "_model_module_version": "1.5.0",
            "_model_name": "HTMLModel",
            "_view_count": null,
            "_view_module": "@jupyter-widgets/controls",
            "_view_module_version": "1.5.0",
            "_view_name": "HTMLView",
            "description": "",
            "description_tooltip": null,
            "layout": "IPY_MODEL_c71c8070702f431c906e10a4e0a7a55e",
            "placeholder": "​",
            "style": "IPY_MODEL_07e5e72703f34cafaa3a16269474062c",
            "value": "100%"
          }
        },
        "1a207060bd964bc4990949c62f576ee0": {
          "model_module": "@jupyter-widgets/controls",
          "model_name": "FloatProgressModel",
          "model_module_version": "1.5.0",
          "state": {
            "_dom_classes": [],
            "_model_module": "@jupyter-widgets/controls",
            "_model_module_version": "1.5.0",
            "_model_name": "FloatProgressModel",
            "_view_count": null,
            "_view_module": "@jupyter-widgets/controls",
            "_view_module_version": "1.5.0",
            "_view_name": "ProgressView",
            "bar_style": "success",
            "description": "",
            "description_tooltip": null,
            "layout": "IPY_MODEL_ddcce7b38e094f519b48d13bfcf334ff",
            "max": 10000,
            "min": 0,
            "orientation": "horizontal",
            "style": "IPY_MODEL_3eaec832350e4970bb381c4f4d8197d3",
            "value": 10000
          }
        },
        "dc0fb8c64c684aaf93d6562394b06645": {
          "model_module": "@jupyter-widgets/controls",
          "model_name": "HTMLModel",
          "model_module_version": "1.5.0",
          "state": {
            "_dom_classes": [],
            "_model_module": "@jupyter-widgets/controls",
            "_model_module_version": "1.5.0",
            "_model_name": "HTMLModel",
            "_view_count": null,
            "_view_module": "@jupyter-widgets/controls",
            "_view_module_version": "1.5.0",
            "_view_name": "HTMLView",
            "description": "",
            "description_tooltip": null,
            "layout": "IPY_MODEL_c34227307b374256b18abb1422b51374",
            "placeholder": "​",
            "style": "IPY_MODEL_0d97174f3e63497ca715d07b91d0b7a8",
            "value": " 10000/10000 [00:30&lt;00:00, 353.09it/s]"
          }
        },
        "96c33c560a724896b522b9e6cc94e7a9": {
          "model_module": "@jupyter-widgets/base",
          "model_name": "LayoutModel",
          "model_module_version": "1.2.0",
          "state": {
            "_model_module": "@jupyter-widgets/base",
            "_model_module_version": "1.2.0",
            "_model_name": "LayoutModel",
            "_view_count": null,
            "_view_module": "@jupyter-widgets/base",
            "_view_module_version": "1.2.0",
            "_view_name": "LayoutView",
            "align_content": null,
            "align_items": null,
            "align_self": null,
            "border": null,
            "bottom": null,
            "display": null,
            "flex": null,
            "flex_flow": null,
            "grid_area": null,
            "grid_auto_columns": null,
            "grid_auto_flow": null,
            "grid_auto_rows": null,
            "grid_column": null,
            "grid_gap": null,
            "grid_row": null,
            "grid_template_areas": null,
            "grid_template_columns": null,
            "grid_template_rows": null,
            "height": null,
            "justify_content": null,
            "justify_items": null,
            "left": null,
            "margin": null,
            "max_height": null,
            "max_width": null,
            "min_height": null,
            "min_width": null,
            "object_fit": null,
            "object_position": null,
            "order": null,
            "overflow": null,
            "overflow_x": null,
            "overflow_y": null,
            "padding": null,
            "right": null,
            "top": null,
            "visibility": null,
            "width": null
          }
        },
        "c71c8070702f431c906e10a4e0a7a55e": {
          "model_module": "@jupyter-widgets/base",
          "model_name": "LayoutModel",
          "model_module_version": "1.2.0",
          "state": {
            "_model_module": "@jupyter-widgets/base",
            "_model_module_version": "1.2.0",
            "_model_name": "LayoutModel",
            "_view_count": null,
            "_view_module": "@jupyter-widgets/base",
            "_view_module_version": "1.2.0",
            "_view_name": "LayoutView",
            "align_content": null,
            "align_items": null,
            "align_self": null,
            "border": null,
            "bottom": null,
            "display": null,
            "flex": null,
            "flex_flow": null,
            "grid_area": null,
            "grid_auto_columns": null,
            "grid_auto_flow": null,
            "grid_auto_rows": null,
            "grid_column": null,
            "grid_gap": null,
            "grid_row": null,
            "grid_template_areas": null,
            "grid_template_columns": null,
            "grid_template_rows": null,
            "height": null,
            "justify_content": null,
            "justify_items": null,
            "left": null,
            "margin": null,
            "max_height": null,
            "max_width": null,
            "min_height": null,
            "min_width": null,
            "object_fit": null,
            "object_position": null,
            "order": null,
            "overflow": null,
            "overflow_x": null,
            "overflow_y": null,
            "padding": null,
            "right": null,
            "top": null,
            "visibility": null,
            "width": null
          }
        },
        "07e5e72703f34cafaa3a16269474062c": {
          "model_module": "@jupyter-widgets/controls",
          "model_name": "DescriptionStyleModel",
          "model_module_version": "1.5.0",
          "state": {
            "_model_module": "@jupyter-widgets/controls",
            "_model_module_version": "1.5.0",
            "_model_name": "DescriptionStyleModel",
            "_view_count": null,
            "_view_module": "@jupyter-widgets/base",
            "_view_module_version": "1.2.0",
            "_view_name": "StyleView",
            "description_width": ""
          }
        },
        "ddcce7b38e094f519b48d13bfcf334ff": {
          "model_module": "@jupyter-widgets/base",
          "model_name": "LayoutModel",
          "model_module_version": "1.2.0",
          "state": {
            "_model_module": "@jupyter-widgets/base",
            "_model_module_version": "1.2.0",
            "_model_name": "LayoutModel",
            "_view_count": null,
            "_view_module": "@jupyter-widgets/base",
            "_view_module_version": "1.2.0",
            "_view_name": "LayoutView",
            "align_content": null,
            "align_items": null,
            "align_self": null,
            "border": null,
            "bottom": null,
            "display": null,
            "flex": null,
            "flex_flow": null,
            "grid_area": null,
            "grid_auto_columns": null,
            "grid_auto_flow": null,
            "grid_auto_rows": null,
            "grid_column": null,
            "grid_gap": null,
            "grid_row": null,
            "grid_template_areas": null,
            "grid_template_columns": null,
            "grid_template_rows": null,
            "height": null,
            "justify_content": null,
            "justify_items": null,
            "left": null,
            "margin": null,
            "max_height": null,
            "max_width": null,
            "min_height": null,
            "min_width": null,
            "object_fit": null,
            "object_position": null,
            "order": null,
            "overflow": null,
            "overflow_x": null,
            "overflow_y": null,
            "padding": null,
            "right": null,
            "top": null,
            "visibility": null,
            "width": null
          }
        },
        "3eaec832350e4970bb381c4f4d8197d3": {
          "model_module": "@jupyter-widgets/controls",
          "model_name": "ProgressStyleModel",
          "model_module_version": "1.5.0",
          "state": {
            "_model_module": "@jupyter-widgets/controls",
            "_model_module_version": "1.5.0",
            "_model_name": "ProgressStyleModel",
            "_view_count": null,
            "_view_module": "@jupyter-widgets/base",
            "_view_module_version": "1.2.0",
            "_view_name": "StyleView",
            "bar_color": null,
            "description_width": ""
          }
        },
        "c34227307b374256b18abb1422b51374": {
          "model_module": "@jupyter-widgets/base",
          "model_name": "LayoutModel",
          "model_module_version": "1.2.0",
          "state": {
            "_model_module": "@jupyter-widgets/base",
            "_model_module_version": "1.2.0",
            "_model_name": "LayoutModel",
            "_view_count": null,
            "_view_module": "@jupyter-widgets/base",
            "_view_module_version": "1.2.0",
            "_view_name": "LayoutView",
            "align_content": null,
            "align_items": null,
            "align_self": null,
            "border": null,
            "bottom": null,
            "display": null,
            "flex": null,
            "flex_flow": null,
            "grid_area": null,
            "grid_auto_columns": null,
            "grid_auto_flow": null,
            "grid_auto_rows": null,
            "grid_column": null,
            "grid_gap": null,
            "grid_row": null,
            "grid_template_areas": null,
            "grid_template_columns": null,
            "grid_template_rows": null,
            "height": null,
            "justify_content": null,
            "justify_items": null,
            "left": null,
            "margin": null,
            "max_height": null,
            "max_width": null,
            "min_height": null,
            "min_width": null,
            "object_fit": null,
            "object_position": null,
            "order": null,
            "overflow": null,
            "overflow_x": null,
            "overflow_y": null,
            "padding": null,
            "right": null,
            "top": null,
            "visibility": null,
            "width": null
          }
        },
        "0d97174f3e63497ca715d07b91d0b7a8": {
          "model_module": "@jupyter-widgets/controls",
          "model_name": "DescriptionStyleModel",
          "model_module_version": "1.5.0",
          "state": {
            "_model_module": "@jupyter-widgets/controls",
            "_model_module_version": "1.5.0",
            "_model_name": "DescriptionStyleModel",
            "_view_count": null,
            "_view_module": "@jupyter-widgets/base",
            "_view_module_version": "1.2.0",
            "_view_name": "StyleView",
            "description_width": ""
          }
        },
        "d628cecfee694ddda3ed169193f348eb": {
          "model_module": "@jupyter-widgets/controls",
          "model_name": "HBoxModel",
          "model_module_version": "1.5.0",
          "state": {
            "_dom_classes": [],
            "_model_module": "@jupyter-widgets/controls",
            "_model_module_version": "1.5.0",
            "_model_name": "HBoxModel",
            "_view_count": null,
            "_view_module": "@jupyter-widgets/controls",
            "_view_module_version": "1.5.0",
            "_view_name": "HBoxView",
            "box_style": "",
            "children": [
              "IPY_MODEL_98d630d5744a4676aee53b075220bf5d",
              "IPY_MODEL_c432750c06c44e97a1fecda71e8e2c8f",
              "IPY_MODEL_e18b3f912f1843b7a4194613cbc17dd0"
            ],
            "layout": "IPY_MODEL_ac4880c6ad9f45f689e91f1283d1f2e2"
          }
        },
        "98d630d5744a4676aee53b075220bf5d": {
          "model_module": "@jupyter-widgets/controls",
          "model_name": "HTMLModel",
          "model_module_version": "1.5.0",
          "state": {
            "_dom_classes": [],
            "_model_module": "@jupyter-widgets/controls",
            "_model_module_version": "1.5.0",
            "_model_name": "HTMLModel",
            "_view_count": null,
            "_view_module": "@jupyter-widgets/controls",
            "_view_module_version": "1.5.0",
            "_view_name": "HTMLView",
            "description": "",
            "description_tooltip": null,
            "layout": "IPY_MODEL_8aa6a6cc6954446e81c199c5e941717c",
            "placeholder": "​",
            "style": "IPY_MODEL_2b91a46faa5540c4add22f90eec047e0",
            "value": "100%"
          }
        },
        "c432750c06c44e97a1fecda71e8e2c8f": {
          "model_module": "@jupyter-widgets/controls",
          "model_name": "FloatProgressModel",
          "model_module_version": "1.5.0",
          "state": {
            "_dom_classes": [],
            "_model_module": "@jupyter-widgets/controls",
            "_model_module_version": "1.5.0",
            "_model_name": "FloatProgressModel",
            "_view_count": null,
            "_view_module": "@jupyter-widgets/controls",
            "_view_module_version": "1.5.0",
            "_view_name": "ProgressView",
            "bar_style": "success",
            "description": "",
            "description_tooltip": null,
            "layout": "IPY_MODEL_bf9d19f65d2744c89b8acdcda2fb01f3",
            "max": 150,
            "min": 0,
            "orientation": "horizontal",
            "style": "IPY_MODEL_385d3353bc5648bf82e0267c04250f4d",
            "value": 150
          }
        },
        "e18b3f912f1843b7a4194613cbc17dd0": {
          "model_module": "@jupyter-widgets/controls",
          "model_name": "HTMLModel",
          "model_module_version": "1.5.0",
          "state": {
            "_dom_classes": [],
            "_model_module": "@jupyter-widgets/controls",
            "_model_module_version": "1.5.0",
            "_model_name": "HTMLModel",
            "_view_count": null,
            "_view_module": "@jupyter-widgets/controls",
            "_view_module_version": "1.5.0",
            "_view_name": "HTMLView",
            "description": "",
            "description_tooltip": null,
            "layout": "IPY_MODEL_4a1b9729300d4ad5bf62f2d8f3562bdc",
            "placeholder": "​",
            "style": "IPY_MODEL_2d6f111d92184d1e8606affcc6059cde",
            "value": " 150/150 [00:04&lt;00:00, 35.91it/s]"
          }
        },
        "ac4880c6ad9f45f689e91f1283d1f2e2": {
          "model_module": "@jupyter-widgets/base",
          "model_name": "LayoutModel",
          "model_module_version": "1.2.0",
          "state": {
            "_model_module": "@jupyter-widgets/base",
            "_model_module_version": "1.2.0",
            "_model_name": "LayoutModel",
            "_view_count": null,
            "_view_module": "@jupyter-widgets/base",
            "_view_module_version": "1.2.0",
            "_view_name": "LayoutView",
            "align_content": null,
            "align_items": null,
            "align_self": null,
            "border": null,
            "bottom": null,
            "display": null,
            "flex": null,
            "flex_flow": null,
            "grid_area": null,
            "grid_auto_columns": null,
            "grid_auto_flow": null,
            "grid_auto_rows": null,
            "grid_column": null,
            "grid_gap": null,
            "grid_row": null,
            "grid_template_areas": null,
            "grid_template_columns": null,
            "grid_template_rows": null,
            "height": null,
            "justify_content": null,
            "justify_items": null,
            "left": null,
            "margin": null,
            "max_height": null,
            "max_width": null,
            "min_height": null,
            "min_width": null,
            "object_fit": null,
            "object_position": null,
            "order": null,
            "overflow": null,
            "overflow_x": null,
            "overflow_y": null,
            "padding": null,
            "right": null,
            "top": null,
            "visibility": null,
            "width": null
          }
        },
        "8aa6a6cc6954446e81c199c5e941717c": {
          "model_module": "@jupyter-widgets/base",
          "model_name": "LayoutModel",
          "model_module_version": "1.2.0",
          "state": {
            "_model_module": "@jupyter-widgets/base",
            "_model_module_version": "1.2.0",
            "_model_name": "LayoutModel",
            "_view_count": null,
            "_view_module": "@jupyter-widgets/base",
            "_view_module_version": "1.2.0",
            "_view_name": "LayoutView",
            "align_content": null,
            "align_items": null,
            "align_self": null,
            "border": null,
            "bottom": null,
            "display": null,
            "flex": null,
            "flex_flow": null,
            "grid_area": null,
            "grid_auto_columns": null,
            "grid_auto_flow": null,
            "grid_auto_rows": null,
            "grid_column": null,
            "grid_gap": null,
            "grid_row": null,
            "grid_template_areas": null,
            "grid_template_columns": null,
            "grid_template_rows": null,
            "height": null,
            "justify_content": null,
            "justify_items": null,
            "left": null,
            "margin": null,
            "max_height": null,
            "max_width": null,
            "min_height": null,
            "min_width": null,
            "object_fit": null,
            "object_position": null,
            "order": null,
            "overflow": null,
            "overflow_x": null,
            "overflow_y": null,
            "padding": null,
            "right": null,
            "top": null,
            "visibility": null,
            "width": null
          }
        },
        "2b91a46faa5540c4add22f90eec047e0": {
          "model_module": "@jupyter-widgets/controls",
          "model_name": "DescriptionStyleModel",
          "model_module_version": "1.5.0",
          "state": {
            "_model_module": "@jupyter-widgets/controls",
            "_model_module_version": "1.5.0",
            "_model_name": "DescriptionStyleModel",
            "_view_count": null,
            "_view_module": "@jupyter-widgets/base",
            "_view_module_version": "1.2.0",
            "_view_name": "StyleView",
            "description_width": ""
          }
        },
        "bf9d19f65d2744c89b8acdcda2fb01f3": {
          "model_module": "@jupyter-widgets/base",
          "model_name": "LayoutModel",
          "model_module_version": "1.2.0",
          "state": {
            "_model_module": "@jupyter-widgets/base",
            "_model_module_version": "1.2.0",
            "_model_name": "LayoutModel",
            "_view_count": null,
            "_view_module": "@jupyter-widgets/base",
            "_view_module_version": "1.2.0",
            "_view_name": "LayoutView",
            "align_content": null,
            "align_items": null,
            "align_self": null,
            "border": null,
            "bottom": null,
            "display": null,
            "flex": null,
            "flex_flow": null,
            "grid_area": null,
            "grid_auto_columns": null,
            "grid_auto_flow": null,
            "grid_auto_rows": null,
            "grid_column": null,
            "grid_gap": null,
            "grid_row": null,
            "grid_template_areas": null,
            "grid_template_columns": null,
            "grid_template_rows": null,
            "height": null,
            "justify_content": null,
            "justify_items": null,
            "left": null,
            "margin": null,
            "max_height": null,
            "max_width": null,
            "min_height": null,
            "min_width": null,
            "object_fit": null,
            "object_position": null,
            "order": null,
            "overflow": null,
            "overflow_x": null,
            "overflow_y": null,
            "padding": null,
            "right": null,
            "top": null,
            "visibility": null,
            "width": null
          }
        },
        "385d3353bc5648bf82e0267c04250f4d": {
          "model_module": "@jupyter-widgets/controls",
          "model_name": "ProgressStyleModel",
          "model_module_version": "1.5.0",
          "state": {
            "_model_module": "@jupyter-widgets/controls",
            "_model_module_version": "1.5.0",
            "_model_name": "ProgressStyleModel",
            "_view_count": null,
            "_view_module": "@jupyter-widgets/base",
            "_view_module_version": "1.2.0",
            "_view_name": "StyleView",
            "bar_color": null,
            "description_width": ""
          }
        },
        "4a1b9729300d4ad5bf62f2d8f3562bdc": {
          "model_module": "@jupyter-widgets/base",
          "model_name": "LayoutModel",
          "model_module_version": "1.2.0",
          "state": {
            "_model_module": "@jupyter-widgets/base",
            "_model_module_version": "1.2.0",
            "_model_name": "LayoutModel",
            "_view_count": null,
            "_view_module": "@jupyter-widgets/base",
            "_view_module_version": "1.2.0",
            "_view_name": "LayoutView",
            "align_content": null,
            "align_items": null,
            "align_self": null,
            "border": null,
            "bottom": null,
            "display": null,
            "flex": null,
            "flex_flow": null,
            "grid_area": null,
            "grid_auto_columns": null,
            "grid_auto_flow": null,
            "grid_auto_rows": null,
            "grid_column": null,
            "grid_gap": null,
            "grid_row": null,
            "grid_template_areas": null,
            "grid_template_columns": null,
            "grid_template_rows": null,
            "height": null,
            "justify_content": null,
            "justify_items": null,
            "left": null,
            "margin": null,
            "max_height": null,
            "max_width": null,
            "min_height": null,
            "min_width": null,
            "object_fit": null,
            "object_position": null,
            "order": null,
            "overflow": null,
            "overflow_x": null,
            "overflow_y": null,
            "padding": null,
            "right": null,
            "top": null,
            "visibility": null,
            "width": null
          }
        },
        "2d6f111d92184d1e8606affcc6059cde": {
          "model_module": "@jupyter-widgets/controls",
          "model_name": "DescriptionStyleModel",
          "model_module_version": "1.5.0",
          "state": {
            "_model_module": "@jupyter-widgets/controls",
            "_model_module_version": "1.5.0",
            "_model_name": "DescriptionStyleModel",
            "_view_count": null,
            "_view_module": "@jupyter-widgets/base",
            "_view_module_version": "1.2.0",
            "_view_name": "StyleView",
            "description_width": ""
          }
        },
        "bad8c2b9d3d7415ab24dcbf5f9d5ee24": {
          "model_module": "@jupyter-widgets/controls",
          "model_name": "HBoxModel",
          "model_module_version": "1.5.0",
          "state": {
            "_dom_classes": [],
            "_model_module": "@jupyter-widgets/controls",
            "_model_module_version": "1.5.0",
            "_model_name": "HBoxModel",
            "_view_count": null,
            "_view_module": "@jupyter-widgets/controls",
            "_view_module_version": "1.5.0",
            "_view_name": "HBoxView",
            "box_style": "",
            "children": [
              "IPY_MODEL_cb097252b1314d23bca05a7aa8914c9f",
              "IPY_MODEL_efe86422db074316a6b085fa670cb192",
              "IPY_MODEL_a638bb0277af4e669c18f8ed9eabce7a"
            ],
            "layout": "IPY_MODEL_8b2a55f312604700a7deb12724fd4e99"
          }
        },
        "cb097252b1314d23bca05a7aa8914c9f": {
          "model_module": "@jupyter-widgets/controls",
          "model_name": "HTMLModel",
          "model_module_version": "1.5.0",
          "state": {
            "_dom_classes": [],
            "_model_module": "@jupyter-widgets/controls",
            "_model_module_version": "1.5.0",
            "_model_name": "HTMLModel",
            "_view_count": null,
            "_view_module": "@jupyter-widgets/controls",
            "_view_module_version": "1.5.0",
            "_view_name": "HTMLView",
            "description": "",
            "description_tooltip": null,
            "layout": "IPY_MODEL_b20629e1f9d24f1a8a672384fc619074",
            "placeholder": "​",
            "style": "IPY_MODEL_dc0c3ada78bc48d3bf69be8c64354fa9",
            "value": "100%"
          }
        },
        "efe86422db074316a6b085fa670cb192": {
          "model_module": "@jupyter-widgets/controls",
          "model_name": "FloatProgressModel",
          "model_module_version": "1.5.0",
          "state": {
            "_dom_classes": [],
            "_model_module": "@jupyter-widgets/controls",
            "_model_module_version": "1.5.0",
            "_model_name": "FloatProgressModel",
            "_view_count": null,
            "_view_module": "@jupyter-widgets/controls",
            "_view_module_version": "1.5.0",
            "_view_name": "ProgressView",
            "bar_style": "success",
            "description": "",
            "description_tooltip": null,
            "layout": "IPY_MODEL_9ac21f3f8a82470989a3dce1f671733a",
            "max": 1000,
            "min": 0,
            "orientation": "horizontal",
            "style": "IPY_MODEL_85c332d3c4754cd88e6dc0ae52bc66fe",
            "value": 1000
          }
        },
        "a638bb0277af4e669c18f8ed9eabce7a": {
          "model_module": "@jupyter-widgets/controls",
          "model_name": "HTMLModel",
          "model_module_version": "1.5.0",
          "state": {
            "_dom_classes": [],
            "_model_module": "@jupyter-widgets/controls",
            "_model_module_version": "1.5.0",
            "_model_name": "HTMLModel",
            "_view_count": null,
            "_view_module": "@jupyter-widgets/controls",
            "_view_module_version": "1.5.0",
            "_view_name": "HTMLView",
            "description": "",
            "description_tooltip": null,
            "layout": "IPY_MODEL_a54090d5ba114cb28ab52f43f97e1b1f",
            "placeholder": "​",
            "style": "IPY_MODEL_01b27a3b68b44c69b740faa512e811f8",
            "value": " 1000/1000 [02:38&lt;00:00,  6.23it/s]"
          }
        },
        "8b2a55f312604700a7deb12724fd4e99": {
          "model_module": "@jupyter-widgets/base",
          "model_name": "LayoutModel",
          "model_module_version": "1.2.0",
          "state": {
            "_model_module": "@jupyter-widgets/base",
            "_model_module_version": "1.2.0",
            "_model_name": "LayoutModel",
            "_view_count": null,
            "_view_module": "@jupyter-widgets/base",
            "_view_module_version": "1.2.0",
            "_view_name": "LayoutView",
            "align_content": null,
            "align_items": null,
            "align_self": null,
            "border": null,
            "bottom": null,
            "display": null,
            "flex": null,
            "flex_flow": null,
            "grid_area": null,
            "grid_auto_columns": null,
            "grid_auto_flow": null,
            "grid_auto_rows": null,
            "grid_column": null,
            "grid_gap": null,
            "grid_row": null,
            "grid_template_areas": null,
            "grid_template_columns": null,
            "grid_template_rows": null,
            "height": null,
            "justify_content": null,
            "justify_items": null,
            "left": null,
            "margin": null,
            "max_height": null,
            "max_width": null,
            "min_height": null,
            "min_width": null,
            "object_fit": null,
            "object_position": null,
            "order": null,
            "overflow": null,
            "overflow_x": null,
            "overflow_y": null,
            "padding": null,
            "right": null,
            "top": null,
            "visibility": null,
            "width": null
          }
        },
        "b20629e1f9d24f1a8a672384fc619074": {
          "model_module": "@jupyter-widgets/base",
          "model_name": "LayoutModel",
          "model_module_version": "1.2.0",
          "state": {
            "_model_module": "@jupyter-widgets/base",
            "_model_module_version": "1.2.0",
            "_model_name": "LayoutModel",
            "_view_count": null,
            "_view_module": "@jupyter-widgets/base",
            "_view_module_version": "1.2.0",
            "_view_name": "LayoutView",
            "align_content": null,
            "align_items": null,
            "align_self": null,
            "border": null,
            "bottom": null,
            "display": null,
            "flex": null,
            "flex_flow": null,
            "grid_area": null,
            "grid_auto_columns": null,
            "grid_auto_flow": null,
            "grid_auto_rows": null,
            "grid_column": null,
            "grid_gap": null,
            "grid_row": null,
            "grid_template_areas": null,
            "grid_template_columns": null,
            "grid_template_rows": null,
            "height": null,
            "justify_content": null,
            "justify_items": null,
            "left": null,
            "margin": null,
            "max_height": null,
            "max_width": null,
            "min_height": null,
            "min_width": null,
            "object_fit": null,
            "object_position": null,
            "order": null,
            "overflow": null,
            "overflow_x": null,
            "overflow_y": null,
            "padding": null,
            "right": null,
            "top": null,
            "visibility": null,
            "width": null
          }
        },
        "dc0c3ada78bc48d3bf69be8c64354fa9": {
          "model_module": "@jupyter-widgets/controls",
          "model_name": "DescriptionStyleModel",
          "model_module_version": "1.5.0",
          "state": {
            "_model_module": "@jupyter-widgets/controls",
            "_model_module_version": "1.5.0",
            "_model_name": "DescriptionStyleModel",
            "_view_count": null,
            "_view_module": "@jupyter-widgets/base",
            "_view_module_version": "1.2.0",
            "_view_name": "StyleView",
            "description_width": ""
          }
        },
        "9ac21f3f8a82470989a3dce1f671733a": {
          "model_module": "@jupyter-widgets/base",
          "model_name": "LayoutModel",
          "model_module_version": "1.2.0",
          "state": {
            "_model_module": "@jupyter-widgets/base",
            "_model_module_version": "1.2.0",
            "_model_name": "LayoutModel",
            "_view_count": null,
            "_view_module": "@jupyter-widgets/base",
            "_view_module_version": "1.2.0",
            "_view_name": "LayoutView",
            "align_content": null,
            "align_items": null,
            "align_self": null,
            "border": null,
            "bottom": null,
            "display": null,
            "flex": null,
            "flex_flow": null,
            "grid_area": null,
            "grid_auto_columns": null,
            "grid_auto_flow": null,
            "grid_auto_rows": null,
            "grid_column": null,
            "grid_gap": null,
            "grid_row": null,
            "grid_template_areas": null,
            "grid_template_columns": null,
            "grid_template_rows": null,
            "height": null,
            "justify_content": null,
            "justify_items": null,
            "left": null,
            "margin": null,
            "max_height": null,
            "max_width": null,
            "min_height": null,
            "min_width": null,
            "object_fit": null,
            "object_position": null,
            "order": null,
            "overflow": null,
            "overflow_x": null,
            "overflow_y": null,
            "padding": null,
            "right": null,
            "top": null,
            "visibility": null,
            "width": null
          }
        },
        "85c332d3c4754cd88e6dc0ae52bc66fe": {
          "model_module": "@jupyter-widgets/controls",
          "model_name": "ProgressStyleModel",
          "model_module_version": "1.5.0",
          "state": {
            "_model_module": "@jupyter-widgets/controls",
            "_model_module_version": "1.5.0",
            "_model_name": "ProgressStyleModel",
            "_view_count": null,
            "_view_module": "@jupyter-widgets/base",
            "_view_module_version": "1.2.0",
            "_view_name": "StyleView",
            "bar_color": null,
            "description_width": ""
          }
        },
        "a54090d5ba114cb28ab52f43f97e1b1f": {
          "model_module": "@jupyter-widgets/base",
          "model_name": "LayoutModel",
          "model_module_version": "1.2.0",
          "state": {
            "_model_module": "@jupyter-widgets/base",
            "_model_module_version": "1.2.0",
            "_model_name": "LayoutModel",
            "_view_count": null,
            "_view_module": "@jupyter-widgets/base",
            "_view_module_version": "1.2.0",
            "_view_name": "LayoutView",
            "align_content": null,
            "align_items": null,
            "align_self": null,
            "border": null,
            "bottom": null,
            "display": null,
            "flex": null,
            "flex_flow": null,
            "grid_area": null,
            "grid_auto_columns": null,
            "grid_auto_flow": null,
            "grid_auto_rows": null,
            "grid_column": null,
            "grid_gap": null,
            "grid_row": null,
            "grid_template_areas": null,
            "grid_template_columns": null,
            "grid_template_rows": null,
            "height": null,
            "justify_content": null,
            "justify_items": null,
            "left": null,
            "margin": null,
            "max_height": null,
            "max_width": null,
            "min_height": null,
            "min_width": null,
            "object_fit": null,
            "object_position": null,
            "order": null,
            "overflow": null,
            "overflow_x": null,
            "overflow_y": null,
            "padding": null,
            "right": null,
            "top": null,
            "visibility": null,
            "width": null
          }
        },
        "01b27a3b68b44c69b740faa512e811f8": {
          "model_module": "@jupyter-widgets/controls",
          "model_name": "DescriptionStyleModel",
          "model_module_version": "1.5.0",
          "state": {
            "_model_module": "@jupyter-widgets/controls",
            "_model_module_version": "1.5.0",
            "_model_name": "DescriptionStyleModel",
            "_view_count": null,
            "_view_module": "@jupyter-widgets/base",
            "_view_module_version": "1.2.0",
            "_view_name": "StyleView",
            "description_width": ""
          }
        }
      }
    }
  },
  "nbformat": 4,
  "nbformat_minor": 0
}